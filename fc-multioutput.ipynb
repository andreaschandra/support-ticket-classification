{
 "cells": [
  {
   "cell_type": "code",
   "execution_count": 1,
   "metadata": {},
   "outputs": [],
   "source": [
    "import os\n",
    "import glob\n",
    "import pandas as pd\n",
    "import numpy as np\n",
    "import seaborn as sns\n",
    "\n",
    "from nltk.tokenize import word_tokenize\n",
    "\n",
    "import torch\n",
    "import torch.nn as nn\n",
    "import torch.optim as optim\n",
    "from torch.utils.data import DataLoader\n",
    "\n",
    "%matplotlib inline"
   ]
  },
  {
   "cell_type": "markdown",
   "metadata": {},
   "source": [
    "## data preparation"
   ]
  },
  {
   "cell_type": "code",
   "execution_count": 2,
   "metadata": {},
   "outputs": [],
   "source": [
    "data_path = 'data'"
   ]
  },
  {
   "cell_type": "code",
   "execution_count": 3,
   "metadata": {},
   "outputs": [],
   "source": [
    "files = glob.glob(os.path.join(data_path, '*'))"
   ]
  },
  {
   "cell_type": "code",
   "execution_count": 4,
   "metadata": {},
   "outputs": [],
   "source": [
    "d_data = pd.read_csv(files[0])"
   ]
  },
  {
   "cell_type": "markdown",
   "metadata": {},
   "source": [
    "## data exploration"
   ]
  },
  {
   "cell_type": "code",
   "execution_count": 5,
   "metadata": {},
   "outputs": [
    {
     "data": {
      "text/plain": [
       "(48549, 9)"
      ]
     },
     "execution_count": 5,
     "metadata": {},
     "output_type": "execute_result"
    }
   ],
   "source": [
    "d_data.shape"
   ]
  },
  {
   "cell_type": "code",
   "execution_count": 6,
   "metadata": {},
   "outputs": [
    {
     "data": {
      "text/plain": [
       "Index(['title', 'body', 'ticket_type', 'category', 'sub_category1',\n",
       "       'sub_category2', 'business_service', 'urgency', 'impact'],\n",
       "      dtype='object')"
      ]
     },
     "execution_count": 6,
     "metadata": {},
     "output_type": "execute_result"
    }
   ],
   "source": [
    "d_data.columns"
   ]
  },
  {
   "cell_type": "code",
   "execution_count": 7,
   "metadata": {},
   "outputs": [
    {
     "data": {
      "text/plain": [
       "4     34061\n",
       "5      9634\n",
       "6      2628\n",
       "7       921\n",
       "11      612\n",
       "8       239\n",
       "9       191\n",
       "3       137\n",
       "1        72\n",
       "12       45\n",
       "0         4\n",
       "2         3\n",
       "10        2\n",
       "Name: category, dtype: int64"
      ]
     },
     "execution_count": 7,
     "metadata": {},
     "output_type": "execute_result"
    }
   ],
   "source": [
    "d_data.category.value_counts()"
   ]
  },
  {
   "cell_type": "code",
   "execution_count": 8,
   "metadata": {},
   "outputs": [
    {
     "data": {
      "text/plain": [
       "1    34621\n",
       "0    13928\n",
       "Name: ticket_type, dtype: int64"
      ]
     },
     "execution_count": 8,
     "metadata": {},
     "output_type": "execute_result"
    }
   ],
   "source": [
    "d_data.ticket_type.value_counts()"
   ]
  },
  {
   "cell_type": "code",
   "execution_count": 9,
   "metadata": {},
   "outputs": [
    {
     "data": {
      "text/plain": [
       "3    34621\n",
       "1     6748\n",
       "2     5528\n",
       "0     1652\n",
       "Name: urgency, dtype: int64"
      ]
     },
     "execution_count": 9,
     "metadata": {},
     "output_type": "execute_result"
    }
   ],
   "source": [
    "d_data.urgency.value_counts()"
   ]
  },
  {
   "cell_type": "code",
   "execution_count": 10,
   "metadata": {},
   "outputs": [
    {
     "data": {
      "text/plain": [
       "4    34621\n",
       "3    13184\n",
       "0      471\n",
       "2      228\n",
       "1       45\n",
       "Name: impact, dtype: int64"
      ]
     },
     "execution_count": 10,
     "metadata": {},
     "output_type": "execute_result"
    }
   ],
   "source": [
    "d_data.impact.value_counts()"
   ]
  },
  {
   "cell_type": "code",
   "execution_count": 11,
   "metadata": {},
   "outputs": [],
   "source": [
    "d_data.drop(d_data[d_data.category.isin([0,2,10])].index, inplace=True)"
   ]
  },
  {
   "cell_type": "code",
   "execution_count": 12,
   "metadata": {},
   "outputs": [
    {
     "data": {
      "text/plain": [
       "1        72\n",
       "3       137\n",
       "4     34061\n",
       "5      9634\n",
       "6      2628\n",
       "7       921\n",
       "8       239\n",
       "9       191\n",
       "11      612\n",
       "12       45\n",
       "Name: category, dtype: int64"
      ]
     },
     "execution_count": 12,
     "metadata": {},
     "output_type": "execute_result"
    }
   ],
   "source": [
    "d_data.category.value_counts().sort_index()"
   ]
  },
  {
   "cell_type": "code",
   "execution_count": 13,
   "metadata": {},
   "outputs": [],
   "source": [
    "cat2new = dict((index, value) for index, value in enumerate(d_data.category.value_counts().sort_index().index))\n",
    "new2cat = dict((value, index) for index, value in enumerate(d_data.category.value_counts().sort_index().index))"
   ]
  },
  {
   "cell_type": "code",
   "execution_count": 14,
   "metadata": {},
   "outputs": [],
   "source": [
    "d_data['category'] = d_data.category.map(new2cat)"
   ]
  },
  {
   "cell_type": "markdown",
   "metadata": {},
   "source": [
    "## value encoding"
   ]
  },
  {
   "cell_type": "markdown",
   "metadata": {},
   "source": [
    "fill na in title"
   ]
  },
  {
   "cell_type": "code",
   "execution_count": 15,
   "metadata": {},
   "outputs": [],
   "source": [
    "d_data.title = d_data.title.fillna('')"
   ]
  },
  {
   "cell_type": "code",
   "execution_count": 16,
   "metadata": {},
   "outputs": [
    {
     "data": {
      "text/plain": [
       "title               0\n",
       "body                0\n",
       "ticket_type         0\n",
       "category            0\n",
       "sub_category1       0\n",
       "sub_category2       0\n",
       "business_service    0\n",
       "urgency             0\n",
       "impact              0\n",
       "dtype: int64"
      ]
     },
     "execution_count": 16,
     "metadata": {},
     "output_type": "execute_result"
    }
   ],
   "source": [
    "d_data.isna().sum()"
   ]
  },
  {
   "cell_type": "code",
   "execution_count": 17,
   "metadata": {},
   "outputs": [],
   "source": [
    "d_data['title_body'] = d_data['title'] + d_data['body']"
   ]
  },
  {
   "cell_type": "code",
   "execution_count": 18,
   "metadata": {},
   "outputs": [],
   "source": [
    "d_data.title_body = d_data.title_body.str.lower()"
   ]
  },
  {
   "cell_type": "code",
   "execution_count": 19,
   "metadata": {},
   "outputs": [],
   "source": [
    "text = \" \".join(list(d_data.title_body))"
   ]
  },
  {
   "cell_type": "code",
   "execution_count": 20,
   "metadata": {},
   "outputs": [],
   "source": [
    "word_set = set(word_tokenize(text))"
   ]
  },
  {
   "cell_type": "code",
   "execution_count": 21,
   "metadata": {},
   "outputs": [],
   "source": [
    "idx2word = dict((index, word) for index, word in enumerate(word_set, 1))\n",
    "word2idx = dict((word, index) for index, word in enumerate(word_set, 1))"
   ]
  },
  {
   "cell_type": "code",
   "execution_count": 22,
   "metadata": {},
   "outputs": [],
   "source": [
    "def word_encoding(sentence, encoding):\n",
    "    word_list = word_tokenize(sentence)\n",
    "    sent2idx = []\n",
    "    for word in word_list:\n",
    "        try:\n",
    "            sent2idx.append(encoding[word])\n",
    "        except:\n",
    "            sent2idx.append(0)\n",
    "            \n",
    "    return sent2idx"
   ]
  },
  {
   "cell_type": "code",
   "execution_count": 23,
   "metadata": {},
   "outputs": [
    {
     "data": {
      "text/plain": [
       "10769"
      ]
     },
     "execution_count": 23,
     "metadata": {},
     "output_type": "execute_result"
    }
   ],
   "source": [
    "word2idx['hi']"
   ]
  },
  {
   "cell_type": "code",
   "execution_count": 24,
   "metadata": {},
   "outputs": [],
   "source": [
    "d_data = d_data.sample(frac=1)"
   ]
  },
  {
   "cell_type": "code",
   "execution_count": 25,
   "metadata": {},
   "outputs": [],
   "source": [
    "d_data_selected = d_data[['title_body', 'category', 'ticket_type', 'urgency', 'impact']]"
   ]
  },
  {
   "cell_type": "code",
   "execution_count": 26,
   "metadata": {},
   "outputs": [],
   "source": [
    "d_data_selected.reset_index(drop=True, inplace=True)"
   ]
  },
  {
   "cell_type": "code",
   "execution_count": 27,
   "metadata": {},
   "outputs": [],
   "source": [
    "row, col = d_data_selected.shape"
   ]
  },
  {
   "cell_type": "code",
   "execution_count": 28,
   "metadata": {},
   "outputs": [],
   "source": [
    "train, test = d_data_selected.iloc[:int(row * 0.8)], d_data_selected.iloc[int(row * 0.8):]"
   ]
  },
  {
   "cell_type": "code",
   "execution_count": 29,
   "metadata": {},
   "outputs": [
    {
     "data": {
      "text/plain": [
       "(38832, 5)"
      ]
     },
     "execution_count": 29,
     "metadata": {},
     "output_type": "execute_result"
    }
   ],
   "source": [
    "train.shape"
   ]
  },
  {
   "cell_type": "code",
   "execution_count": 30,
   "metadata": {},
   "outputs": [
    {
     "data": {
      "text/plain": [
       "(9708, 5)"
      ]
     },
     "execution_count": 30,
     "metadata": {},
     "output_type": "execute_result"
    }
   ],
   "source": [
    "test.shape"
   ]
  },
  {
   "cell_type": "code",
   "execution_count": 31,
   "metadata": {},
   "outputs": [],
   "source": [
    "col_label = ['category', 'ticket_type', 'urgency', 'impact']"
   ]
  },
  {
   "cell_type": "code",
   "execution_count": 32,
   "metadata": {},
   "outputs": [
    {
     "name": "stdout",
     "output_type": "stream",
     "text": [
      "category\n",
      "0       56\n",
      "1      113\n",
      "2    27204\n",
      "3     7712\n",
      "4     2114\n",
      "5      758\n",
      "6      194\n",
      "7      153\n",
      "8      493\n",
      "9       35\n",
      "Name: category, dtype: int64\n",
      "\n",
      "\n",
      "ticket_type\n",
      "0    11100\n",
      "1    27732\n",
      "Name: ticket_type, dtype: int64\n",
      "\n",
      "\n",
      "urgency\n",
      "0     1334\n",
      "1     5360\n",
      "2     4406\n",
      "3    27732\n",
      "Name: urgency, dtype: int64\n",
      "\n",
      "\n",
      "impact\n",
      "0      373\n",
      "1       32\n",
      "2      180\n",
      "3    10515\n",
      "4    27732\n",
      "Name: impact, dtype: int64\n",
      "\n",
      "\n"
     ]
    }
   ],
   "source": [
    "for col in col_label:\n",
    "    print(col)\n",
    "    print(train[col].value_counts().sort_index())\n",
    "    print('\\n')"
   ]
  },
  {
   "cell_type": "code",
   "execution_count": 33,
   "metadata": {},
   "outputs": [
    {
     "name": "stdout",
     "output_type": "stream",
     "text": [
      "category\n",
      "0      16\n",
      "1      24\n",
      "2    6857\n",
      "3    1922\n",
      "4     514\n",
      "5     163\n",
      "6      45\n",
      "7      38\n",
      "8     119\n",
      "9      10\n",
      "Name: category, dtype: int64\n",
      "\n",
      "\n",
      "ticket_type\n",
      "0    2825\n",
      "1    6883\n",
      "Name: ticket_type, dtype: int64\n",
      "\n",
      "\n",
      "urgency\n",
      "0     317\n",
      "1    1386\n",
      "2    1122\n",
      "3    6883\n",
      "Name: urgency, dtype: int64\n",
      "\n",
      "\n",
      "impact\n",
      "0      98\n",
      "1      13\n",
      "2      48\n",
      "3    2666\n",
      "4    6883\n",
      "Name: impact, dtype: int64\n",
      "\n",
      "\n"
     ]
    }
   ],
   "source": [
    "for col in col_label:\n",
    "    print(col)\n",
    "    print(test[col].value_counts().sort_index())\n",
    "    print('\\n')"
   ]
  },
  {
   "cell_type": "code",
   "execution_count": 34,
   "metadata": {},
   "outputs": [],
   "source": [
    "# len_sent = train.title_body.apply(word_tokenize)"
   ]
  },
  {
   "cell_type": "code",
   "execution_count": 35,
   "metadata": {},
   "outputs": [],
   "source": [
    "# sns.distplot(len_sent)"
   ]
  },
  {
   "cell_type": "code",
   "execution_count": 36,
   "metadata": {},
   "outputs": [],
   "source": [
    "class Dataset():\n",
    "    def __init__(self, word2idx):\n",
    "        self.lookup = {\n",
    "            'train': (train, len(train)),\n",
    "            'test': (test, len(test))\n",
    "        }\n",
    "        \n",
    "        self.set_split('train')\n",
    "    \n",
    "    def set_split(self, split = 'train'):\n",
    "        self.data, self.length = self.lookup[split]\n",
    "        \n",
    "    def set_length_pad(self, x):\n",
    "        if len(x) > 200:\n",
    "            x = x[:200]\n",
    "        else:\n",
    "            len_pad = 200 - len(x)\n",
    "            pad = [0] * len_pad\n",
    "            x.extend(pad)\n",
    "            \n",
    "        return x\n",
    "    \n",
    "    def __getitem__(self, index):\n",
    "        x = self.data.iloc[index, 0]\n",
    "        x = word_encoding(x, word2idx)\n",
    "        x = self.set_length_pad(x)\n",
    "        x = torch.Tensor(x)\n",
    "        \n",
    "        category = self.data.iloc[index, 1]\n",
    "        ticket_type = self.data.iloc[index, 2]\n",
    "        urgency = self.data.iloc[index, 3]\n",
    "        impact = self.data.iloc[index, 4]\n",
    "        \n",
    "        return {\n",
    "            'x': x,\n",
    "            'category': category,\n",
    "            'ticket': ticket_type,\n",
    "            'urgency': urgency,\n",
    "            'impact': impact\n",
    "        }\n",
    "        \n",
    "        \n",
    "    def __len__(self):\n",
    "\n",
    "        return self.length"
   ]
  },
  {
   "cell_type": "code",
   "execution_count": 37,
   "metadata": {},
   "outputs": [],
   "source": [
    "class Classifier(nn.Module):\n",
    "    def __init__(self, len_category, len_ticket_type, len_urgency, len_impact):\n",
    "        super(Classifier, self).__init__()\n",
    "        self.fc = nn.Sequential(\n",
    "            nn.Linear(200, 150),\n",
    "            nn.ReLU(),\n",
    "            nn.Linear(150, 150),\n",
    "            nn.ReLU(),\n",
    "            nn.Linear(150, 100),\n",
    "            nn.ReLU()\n",
    "        )\n",
    "        \n",
    "        self.category = nn.Linear(100, len_category)\n",
    "        self.ticket_type = nn.Linear(100, len_ticket_type)\n",
    "        self.urgency = nn.Linear(100, len_urgency)\n",
    "        self.impact = nn.Linear(100, len_impact)\n",
    "        \n",
    "        \n",
    "    def forward(self, input_, apply_softmax = False):\n",
    "        x = self.fc(input_)\n",
    "        y_category = self.category(x)\n",
    "        y_ticket = self.ticket_type(x)\n",
    "        y_urgency = self.urgency(x)\n",
    "        y_impact = self.impact(x)\n",
    "        \n",
    "        if apply_softmax:\n",
    "            y_category = F.softmax(y_category)\n",
    "            y_ticket = F.softmax(y_ticket)\n",
    "            y_urgency = F.softmax(y_urgency)\n",
    "            y_impact = F.softmax(y_impact)\n",
    "            \n",
    "        return {'category': y_category,\n",
    "               'ticket': y_ticket,\n",
    "               'urgency': y_urgency,\n",
    "               'impact': y_impact}"
   ]
  },
  {
   "cell_type": "code",
   "execution_count": 38,
   "metadata": {},
   "outputs": [],
   "source": [
    "def compute_accuracy(y_pred, y_true):\n",
    "    y_pred = y_pred.max(dim=1)[1]\n",
    "    n_correct = torch.eq(y_pred, y_true).sum().item()\n",
    "    accuracy = n_correct / len(y_true)\n",
    "    \n",
    "    return accuracy"
   ]
  },
  {
   "cell_type": "code",
   "execution_count": 43,
   "metadata": {},
   "outputs": [],
   "source": [
    "dataset = Dataset(word2idx)\n",
    "classifier = Classifier(10, 2, 4, 5)"
   ]
  },
  {
   "cell_type": "code",
   "execution_count": 44,
   "metadata": {},
   "outputs": [],
   "source": [
    "loss_fun_category = nn.CrossEntropyLoss()\n",
    "loss_fun_ticket = nn.CrossEntropyLoss()\n",
    "loss_fun_urgency = nn.CrossEntropyLoss()\n",
    "loss_fun_impact = nn.CrossEntropyLoss()\n",
    "\n",
    "optimizer = optim.Adam(classifier.parameters(), lr = 1e-3)"
   ]
  },
  {
   "cell_type": "code",
   "execution_count": 45,
   "metadata": {},
   "outputs": [],
   "source": [
    "running_acc = 0\n",
    "running_loss = 0\n",
    "running_acc_val = 0\n",
    "running_loss_val = 0"
   ]
  },
  {
   "cell_type": "code",
   "execution_count": 46,
   "metadata": {},
   "outputs": [
    {
     "name": "stdout",
     "output_type": "stream",
     "text": [
      "epoch 0/100 loss: 241.15 accuracy: 0.43 loss_val: 265.19 accuracy_val: 0.00\n",
      "epoch 1/100 loss: 266.63 accuracy: 0.43 loss_val: 271.76 accuracy_val: 0.00\n",
      "epoch 2/100 loss: 278.07 accuracy: 0.45 loss_val: 271.10 accuracy_val: 0.00\n",
      "epoch 3/100 loss: 247.80 accuracy: 0.45 loss_val: 275.78 accuracy_val: 0.00\n",
      "epoch 4/100 loss: 262.32 accuracy: 0.42 loss_val: 275.79 accuracy_val: 0.00\n",
      "epoch 5/100 loss: 255.24 accuracy: 0.43 loss_val: 280.13 accuracy_val: 0.00\n",
      "epoch 6/100 loss: 275.58 accuracy: 0.43 loss_val: 272.88 accuracy_val: 0.00\n",
      "epoch 7/100 loss: 261.19 accuracy: 0.46 loss_val: 270.03 accuracy_val: 0.00\n",
      "epoch 8/100 loss: 289.79 accuracy: 0.42 loss_val: 265.12 accuracy_val: 0.00\n",
      "epoch 9/100 loss: 268.97 accuracy: 0.43 loss_val: 267.08 accuracy_val: 0.00\n",
      "epoch 10/100 loss: 238.62 accuracy: 0.43 loss_val: 261.03 accuracy_val: 0.00\n",
      "epoch 11/100 loss: 277.35 accuracy: 0.42 loss_val: 266.37 accuracy_val: 0.00\n",
      "epoch 12/100 loss: 253.25 accuracy: 0.46 loss_val: 251.08 accuracy_val: 0.00\n",
      "epoch 13/100 loss: 273.40 accuracy: 0.45 loss_val: 263.06 accuracy_val: 0.00\n",
      "epoch 14/100 loss: 275.38 accuracy: 0.44 loss_val: 245.63 accuracy_val: 0.00\n",
      "epoch 15/100 loss: 255.91 accuracy: 0.46 loss_val: 266.17 accuracy_val: 0.00\n",
      "epoch 16/100 loss: 252.92 accuracy: 0.46 loss_val: 241.28 accuracy_val: 0.00\n",
      "epoch 17/100 loss: 273.82 accuracy: 0.43 loss_val: 251.33 accuracy_val: 0.00\n",
      "epoch 18/100 loss: 263.11 accuracy: 0.41 loss_val: 285.78 accuracy_val: 0.00\n",
      "epoch 19/100 loss: 238.73 accuracy: 0.45 loss_val: 256.61 accuracy_val: 0.00\n",
      "epoch 20/100 loss: 243.40 accuracy: 0.43 loss_val: 271.64 accuracy_val: 0.00\n",
      "epoch 21/100 loss: 269.77 accuracy: 0.40 loss_val: 260.66 accuracy_val: 0.00\n",
      "epoch 22/100 loss: 243.99 accuracy: 0.45 loss_val: 244.15 accuracy_val: 0.00\n",
      "epoch 23/100 loss: 263.58 accuracy: 0.43 loss_val: 258.72 accuracy_val: 0.00\n",
      "epoch 24/100 loss: 257.47 accuracy: 0.40 loss_val: 286.72 accuracy_val: 0.00\n",
      "epoch 25/100 loss: 270.85 accuracy: 0.46 loss_val: 262.03 accuracy_val: 0.00\n",
      "epoch 26/100 loss: 262.77 accuracy: 0.43 loss_val: 275.99 accuracy_val: 0.00\n",
      "epoch 27/100 loss: 258.75 accuracy: 0.43 loss_val: 265.25 accuracy_val: 0.00\n",
      "epoch 28/100 loss: 250.64 accuracy: 0.46 loss_val: 270.09 accuracy_val: 0.00\n",
      "epoch 29/100 loss: 250.89 accuracy: 0.48 loss_val: 277.07 accuracy_val: 0.00\n",
      "epoch 30/100 loss: 250.69 accuracy: 0.46 loss_val: 257.23 accuracy_val: 0.00\n",
      "epoch 31/100 loss: 246.63 accuracy: 0.44 loss_val: 247.72 accuracy_val: 0.00\n",
      "epoch 32/100 loss: 249.04 accuracy: 0.47 loss_val: 268.17 accuracy_val: 0.00\n",
      "epoch 33/100 loss: 298.41 accuracy: 0.43 loss_val: 266.32 accuracy_val: 0.00\n",
      "epoch 34/100 loss: 256.59 accuracy: 0.46 loss_val: 270.06 accuracy_val: 0.00\n",
      "epoch 35/100 loss: 242.18 accuracy: 0.42 loss_val: 293.47 accuracy_val: 0.00\n",
      "epoch 36/100 loss: 257.01 accuracy: 0.43 loss_val: 297.96 accuracy_val: 0.00\n",
      "epoch 37/100 loss: 260.74 accuracy: 0.44 loss_val: 262.07 accuracy_val: 0.00\n",
      "epoch 38/100 loss: 277.51 accuracy: 0.43 loss_val: 272.93 accuracy_val: 0.00\n",
      "epoch 39/100 loss: 244.94 accuracy: 0.44 loss_val: 267.10 accuracy_val: 0.00\n",
      "epoch 40/100 loss: 264.10 accuracy: 0.40 loss_val: 276.46 accuracy_val: 0.00\n",
      "epoch 41/100 loss: 250.20 accuracy: 0.44 loss_val: 259.30 accuracy_val: 0.00\n",
      "epoch 42/100 loss: 260.71 accuracy: 0.42 loss_val: 256.65 accuracy_val: 0.00\n",
      "epoch 43/100 loss: 283.34 accuracy: 0.42 loss_val: 261.92 accuracy_val: 0.00\n",
      "epoch 44/100 loss: 257.75 accuracy: 0.45 loss_val: 266.25 accuracy_val: 0.00\n",
      "epoch 45/100 loss: 282.16 accuracy: 0.43 loss_val: 263.41 accuracy_val: 0.00\n",
      "epoch 46/100 loss: 260.12 accuracy: 0.43 loss_val: 241.16 accuracy_val: 0.00\n",
      "epoch 47/100 loss: 280.61 accuracy: 0.44 loss_val: 268.07 accuracy_val: 0.00\n",
      "epoch 48/100 loss: 272.67 accuracy: 0.41 loss_val: 272.84 accuracy_val: 0.00\n",
      "epoch 49/100 loss: 255.43 accuracy: 0.39 loss_val: 281.94 accuracy_val: 0.00\n",
      "epoch 50/100 loss: 250.28 accuracy: 0.42 loss_val: 266.38 accuracy_val: 0.00\n",
      "epoch 51/100 loss: 251.30 accuracy: 0.45 loss_val: 262.38 accuracy_val: 0.00\n",
      "epoch 52/100 loss: 263.23 accuracy: 0.43 loss_val: 286.53 accuracy_val: 0.00\n",
      "epoch 53/100 loss: 287.09 accuracy: 0.42 loss_val: 254.16 accuracy_val: 0.00\n",
      "epoch 54/100 loss: 275.67 accuracy: 0.44 loss_val: 250.17 accuracy_val: 0.00\n",
      "epoch 55/100 loss: 237.52 accuracy: 0.46 loss_val: 246.98 accuracy_val: 0.00\n",
      "epoch 56/100 loss: 256.26 accuracy: 0.46 loss_val: 274.56 accuracy_val: 0.00\n",
      "epoch 57/100 loss: 249.60 accuracy: 0.46 loss_val: 263.46 accuracy_val: 0.00\n",
      "epoch 58/100 loss: 255.46 accuracy: 0.43 loss_val: 269.92 accuracy_val: 0.00\n",
      "epoch 59/100 loss: 264.08 accuracy: 0.41 loss_val: 261.57 accuracy_val: 0.00\n",
      "epoch 60/100 loss: 254.95 accuracy: 0.45 loss_val: 254.40 accuracy_val: 0.00\n",
      "epoch 61/100 loss: 234.48 accuracy: 0.44 loss_val: 240.56 accuracy_val: 0.00\n",
      "epoch 62/100 loss: 252.25 accuracy: 0.42 loss_val: 271.11 accuracy_val: 0.00\n",
      "epoch 63/100 loss: 263.77 accuracy: 0.41 loss_val: 261.18 accuracy_val: 0.00\n",
      "epoch 64/100 loss: 267.45 accuracy: 0.45 loss_val: 256.56 accuracy_val: 0.00\n",
      "epoch 65/100 loss: 265.71 accuracy: 0.47 loss_val: 258.94 accuracy_val: 0.00\n",
      "epoch 66/100 loss: 270.46 accuracy: 0.42 loss_val: 264.37 accuracy_val: 0.00\n",
      "epoch 67/100 loss: 267.33 accuracy: 0.43 loss_val: 256.37 accuracy_val: 0.00\n",
      "epoch 68/100 loss: 239.30 accuracy: 0.44 loss_val: 274.33 accuracy_val: 0.00\n",
      "epoch 69/100 loss: 253.12 accuracy: 0.42 loss_val: 249.07 accuracy_val: 0.00\n",
      "epoch 70/100 loss: 244.20 accuracy: 0.42 loss_val: 237.36 accuracy_val: 0.00\n",
      "epoch 71/100 loss: 262.20 accuracy: 0.43 loss_val: 274.49 accuracy_val: 0.00\n",
      "epoch 72/100 loss: 275.00 accuracy: 0.42 loss_val: 260.09 accuracy_val: 0.00\n",
      "epoch 73/100 loss: 264.50 accuracy: 0.41 loss_val: 276.70 accuracy_val: 0.00\n"
     ]
    },
    {
     "ename": "KeyboardInterrupt",
     "evalue": "",
     "output_type": "error",
     "traceback": [
      "\u001b[0;31m-----------------------------------------------------------------------\u001b[0m",
      "\u001b[0;31mKeyboardInterrupt\u001b[0m                     Traceback (most recent call last)",
      "\u001b[0;32m<ipython-input-46-c1ec055db257>\u001b[0m in \u001b[0;36m<module>\u001b[0;34m\u001b[0m\n\u001b[1;32m     38\u001b[0m     \u001b[0mdata_gen\u001b[0m \u001b[0;34m=\u001b[0m \u001b[0mDataLoader\u001b[0m\u001b[0;34m(\u001b[0m\u001b[0mdataset\u001b[0m\u001b[0;34m=\u001b[0m\u001b[0mdataset\u001b[0m\u001b[0;34m,\u001b[0m \u001b[0mshuffle\u001b[0m\u001b[0;34m=\u001b[0m\u001b[0;32mTrue\u001b[0m\u001b[0;34m,\u001b[0m \u001b[0mbatch_size\u001b[0m\u001b[0;34m=\u001b[0m\u001b[0;36m128\u001b[0m\u001b[0;34m)\u001b[0m\u001b[0;34m\u001b[0m\u001b[0;34m\u001b[0m\u001b[0m\n\u001b[1;32m     39\u001b[0m     \u001b[0mclassifier\u001b[0m\u001b[0;34m.\u001b[0m\u001b[0meval\u001b[0m\u001b[0;34m(\u001b[0m\u001b[0;34m)\u001b[0m\u001b[0;34m\u001b[0m\u001b[0;34m\u001b[0m\u001b[0m\n\u001b[0;32m---> 40\u001b[0;31m     \u001b[0;32mfor\u001b[0m \u001b[0mbatch_index\u001b[0m\u001b[0;34m,\u001b[0m \u001b[0mbatch_dict\u001b[0m \u001b[0;32min\u001b[0m \u001b[0menumerate\u001b[0m\u001b[0;34m(\u001b[0m\u001b[0mdata_gen\u001b[0m \u001b[0;34m,\u001b[0m \u001b[0;36m1\u001b[0m\u001b[0;34m)\u001b[0m\u001b[0;34m:\u001b[0m\u001b[0;34m\u001b[0m\u001b[0;34m\u001b[0m\u001b[0m\n\u001b[0m\u001b[1;32m     41\u001b[0m         \u001b[0;31m# step 1\u001b[0m\u001b[0;34m\u001b[0m\u001b[0;34m\u001b[0m\u001b[0;34m\u001b[0m\u001b[0m\n\u001b[1;32m     42\u001b[0m         \u001b[0my_pred\u001b[0m \u001b[0;34m=\u001b[0m \u001b[0mclassifier\u001b[0m\u001b[0;34m(\u001b[0m\u001b[0mbatch_dict\u001b[0m\u001b[0;34m[\u001b[0m\u001b[0;34m'x'\u001b[0m\u001b[0;34m]\u001b[0m\u001b[0;34m)\u001b[0m\u001b[0;34m\u001b[0m\u001b[0;34m\u001b[0m\u001b[0m\n",
      "\u001b[0;32m~/anaconda3/lib/python3.7/site-packages/torch/utils/data/dataloader.py\u001b[0m in \u001b[0;36m__next__\u001b[0;34m(self)\u001b[0m\n\u001b[1;32m    558\u001b[0m         \u001b[0;32mif\u001b[0m \u001b[0mself\u001b[0m\u001b[0;34m.\u001b[0m\u001b[0mnum_workers\u001b[0m \u001b[0;34m==\u001b[0m \u001b[0;36m0\u001b[0m\u001b[0;34m:\u001b[0m  \u001b[0;31m# same-process loading\u001b[0m\u001b[0;34m\u001b[0m\u001b[0;34m\u001b[0m\u001b[0m\n\u001b[1;32m    559\u001b[0m             \u001b[0mindices\u001b[0m \u001b[0;34m=\u001b[0m \u001b[0mnext\u001b[0m\u001b[0;34m(\u001b[0m\u001b[0mself\u001b[0m\u001b[0;34m.\u001b[0m\u001b[0msample_iter\u001b[0m\u001b[0;34m)\u001b[0m  \u001b[0;31m# may raise StopIteration\u001b[0m\u001b[0;34m\u001b[0m\u001b[0;34m\u001b[0m\u001b[0m\n\u001b[0;32m--> 560\u001b[0;31m             \u001b[0mbatch\u001b[0m \u001b[0;34m=\u001b[0m \u001b[0mself\u001b[0m\u001b[0;34m.\u001b[0m\u001b[0mcollate_fn\u001b[0m\u001b[0;34m(\u001b[0m\u001b[0;34m[\u001b[0m\u001b[0mself\u001b[0m\u001b[0;34m.\u001b[0m\u001b[0mdataset\u001b[0m\u001b[0;34m[\u001b[0m\u001b[0mi\u001b[0m\u001b[0;34m]\u001b[0m \u001b[0;32mfor\u001b[0m \u001b[0mi\u001b[0m \u001b[0;32min\u001b[0m \u001b[0mindices\u001b[0m\u001b[0;34m]\u001b[0m\u001b[0;34m)\u001b[0m\u001b[0;34m\u001b[0m\u001b[0;34m\u001b[0m\u001b[0m\n\u001b[0m\u001b[1;32m    561\u001b[0m             \u001b[0;32mif\u001b[0m \u001b[0mself\u001b[0m\u001b[0;34m.\u001b[0m\u001b[0mpin_memory\u001b[0m\u001b[0;34m:\u001b[0m\u001b[0;34m\u001b[0m\u001b[0;34m\u001b[0m\u001b[0m\n\u001b[1;32m    562\u001b[0m                 \u001b[0mbatch\u001b[0m \u001b[0;34m=\u001b[0m \u001b[0m_utils\u001b[0m\u001b[0;34m.\u001b[0m\u001b[0mpin_memory\u001b[0m\u001b[0;34m.\u001b[0m\u001b[0mpin_memory_batch\u001b[0m\u001b[0;34m(\u001b[0m\u001b[0mbatch\u001b[0m\u001b[0;34m)\u001b[0m\u001b[0;34m\u001b[0m\u001b[0;34m\u001b[0m\u001b[0m\n",
      "\u001b[0;32m~/anaconda3/lib/python3.7/site-packages/torch/utils/data/dataloader.py\u001b[0m in \u001b[0;36m<listcomp>\u001b[0;34m(.0)\u001b[0m\n\u001b[1;32m    558\u001b[0m         \u001b[0;32mif\u001b[0m \u001b[0mself\u001b[0m\u001b[0;34m.\u001b[0m\u001b[0mnum_workers\u001b[0m \u001b[0;34m==\u001b[0m \u001b[0;36m0\u001b[0m\u001b[0;34m:\u001b[0m  \u001b[0;31m# same-process loading\u001b[0m\u001b[0;34m\u001b[0m\u001b[0;34m\u001b[0m\u001b[0m\n\u001b[1;32m    559\u001b[0m             \u001b[0mindices\u001b[0m \u001b[0;34m=\u001b[0m \u001b[0mnext\u001b[0m\u001b[0;34m(\u001b[0m\u001b[0mself\u001b[0m\u001b[0;34m.\u001b[0m\u001b[0msample_iter\u001b[0m\u001b[0;34m)\u001b[0m  \u001b[0;31m# may raise StopIteration\u001b[0m\u001b[0;34m\u001b[0m\u001b[0;34m\u001b[0m\u001b[0m\n\u001b[0;32m--> 560\u001b[0;31m             \u001b[0mbatch\u001b[0m \u001b[0;34m=\u001b[0m \u001b[0mself\u001b[0m\u001b[0;34m.\u001b[0m\u001b[0mcollate_fn\u001b[0m\u001b[0;34m(\u001b[0m\u001b[0;34m[\u001b[0m\u001b[0mself\u001b[0m\u001b[0;34m.\u001b[0m\u001b[0mdataset\u001b[0m\u001b[0;34m[\u001b[0m\u001b[0mi\u001b[0m\u001b[0;34m]\u001b[0m \u001b[0;32mfor\u001b[0m \u001b[0mi\u001b[0m \u001b[0;32min\u001b[0m \u001b[0mindices\u001b[0m\u001b[0;34m]\u001b[0m\u001b[0;34m)\u001b[0m\u001b[0;34m\u001b[0m\u001b[0;34m\u001b[0m\u001b[0m\n\u001b[0m\u001b[1;32m    561\u001b[0m             \u001b[0;32mif\u001b[0m \u001b[0mself\u001b[0m\u001b[0;34m.\u001b[0m\u001b[0mpin_memory\u001b[0m\u001b[0;34m:\u001b[0m\u001b[0;34m\u001b[0m\u001b[0;34m\u001b[0m\u001b[0m\n\u001b[1;32m    562\u001b[0m                 \u001b[0mbatch\u001b[0m \u001b[0;34m=\u001b[0m \u001b[0m_utils\u001b[0m\u001b[0;34m.\u001b[0m\u001b[0mpin_memory\u001b[0m\u001b[0;34m.\u001b[0m\u001b[0mpin_memory_batch\u001b[0m\u001b[0;34m(\u001b[0m\u001b[0mbatch\u001b[0m\u001b[0;34m)\u001b[0m\u001b[0;34m\u001b[0m\u001b[0;34m\u001b[0m\u001b[0m\n",
      "\u001b[0;32m<ipython-input-36-0cbc4ef46052>\u001b[0m in \u001b[0;36m__getitem__\u001b[0;34m(self, index)\u001b[0m\n\u001b[1;32m     25\u001b[0m         \u001b[0mx\u001b[0m \u001b[0;34m=\u001b[0m \u001b[0mword_encoding\u001b[0m\u001b[0;34m(\u001b[0m\u001b[0mx\u001b[0m\u001b[0;34m,\u001b[0m \u001b[0mword2idx\u001b[0m\u001b[0;34m)\u001b[0m\u001b[0;34m\u001b[0m\u001b[0;34m\u001b[0m\u001b[0m\n\u001b[1;32m     26\u001b[0m         \u001b[0mx\u001b[0m \u001b[0;34m=\u001b[0m \u001b[0mself\u001b[0m\u001b[0;34m.\u001b[0m\u001b[0mset_length_pad\u001b[0m\u001b[0;34m(\u001b[0m\u001b[0mx\u001b[0m\u001b[0;34m)\u001b[0m\u001b[0;34m\u001b[0m\u001b[0;34m\u001b[0m\u001b[0m\n\u001b[0;32m---> 27\u001b[0;31m         \u001b[0mx\u001b[0m \u001b[0;34m=\u001b[0m \u001b[0mtorch\u001b[0m\u001b[0;34m.\u001b[0m\u001b[0mTensor\u001b[0m\u001b[0;34m(\u001b[0m\u001b[0mx\u001b[0m\u001b[0;34m)\u001b[0m\u001b[0;34m\u001b[0m\u001b[0;34m\u001b[0m\u001b[0m\n\u001b[0m\u001b[1;32m     28\u001b[0m \u001b[0;34m\u001b[0m\u001b[0m\n\u001b[1;32m     29\u001b[0m         \u001b[0mcategory\u001b[0m \u001b[0;34m=\u001b[0m \u001b[0mself\u001b[0m\u001b[0;34m.\u001b[0m\u001b[0mdata\u001b[0m\u001b[0;34m.\u001b[0m\u001b[0miloc\u001b[0m\u001b[0;34m[\u001b[0m\u001b[0mindex\u001b[0m\u001b[0;34m,\u001b[0m \u001b[0;36m1\u001b[0m\u001b[0;34m]\u001b[0m\u001b[0;34m\u001b[0m\u001b[0;34m\u001b[0m\u001b[0m\n",
      "\u001b[0;31mKeyboardInterrupt\u001b[0m: "
     ]
    }
   ],
   "source": [
    "for epoch in range(100):\n",
    "    dataset.set_split('train')\n",
    "    data_gen = DataLoader(dataset=dataset, shuffle=True, batch_size=128)\n",
    "    classifier.train()\n",
    "    for batch_index, batch_dict in enumerate(data_gen , 1):\n",
    "        # step 1\n",
    "        optimizer.zero_grad()\n",
    "        \n",
    "        # step 2\n",
    "        y_pred = classifier(batch_dict['x'])\n",
    "        \n",
    "        # step 3 loss\n",
    "        loss_category = loss_fun_category(y_pred['category'], batch_dict['category'])\n",
    "        loss_ticket = loss_fun_category(y_pred['ticket'], batch_dict['ticket'])\n",
    "        loss_urgency = loss_fun_category(y_pred['urgency'], batch_dict['urgency'])\n",
    "        loss_impact = loss_fun_category(y_pred['impact'], batch_dict['impact'])\n",
    "        \n",
    "        loss = loss_category + loss_ticket + loss_urgency + loss_impact\n",
    "        running_loss += ((loss.item() / 4) - running_loss) / batch_index\n",
    "        \n",
    "        # step 4 accuracy\n",
    "        acc_category = compute_accuracy(y_pred['category'], batch_dict['category'])\n",
    "        acc_ticket = compute_accuracy(y_pred['ticket'], batch_dict['ticket'])\n",
    "        acc_urgency = compute_accuracy(y_pred['urgency'], batch_dict['urgency'])\n",
    "        acc_impact = compute_accuracy(y_pred['impact'], batch_dict['impact'])\n",
    "        \n",
    "        accuracy = (acc_category + acc_ticket + acc_urgency + acc_impact) / 4\n",
    "        running_acc += (accuracy - running_acc) / batch_index\n",
    "        \n",
    "        # step 5 update gradient\n",
    "        optimizer.step()\n",
    "        \n",
    "        # step 6 step\n",
    "        loss.backward\n",
    "        break\n",
    "    \n",
    "    dataset.set_split('test')\n",
    "    data_gen = DataLoader(dataset=dataset, shuffle=True, batch_size=128)\n",
    "    classifier.eval()\n",
    "    for batch_index, batch_dict in enumerate(data_gen , 1):\n",
    "        # step 1\n",
    "        y_pred = classifier(batch_dict['x'])\n",
    "        \n",
    "        # step 2\n",
    "        # step 3 loss\n",
    "        loss_category_val = loss_fun_category(y_pred['category'], batch_dict['category'])\n",
    "        loss_ticket_val = loss_fun_category(y_pred['ticket'], batch_dict['ticket'])\n",
    "        loss_urgency_val = loss_fun_category(y_pred['urgency'], batch_dict['urgency'])\n",
    "        loss_impact_val = loss_fun_category(y_pred['impact'], batch_dict['impact'])\n",
    "        \n",
    "        loss_val = loss_category_val + loss_ticket_val + loss_urgency_val + loss_impact_val\n",
    "        running_loss_val += ((loss_val.item() / 4) - running_loss_val) / batch_index\n",
    "        \n",
    "        # step 3\n",
    "        acc_category_val = compute_accuracy(y_pred['category'], batch_dict['category'])\n",
    "        acc_ticket_val = compute_accuracy(y_pred['ticket'], batch_dict['ticket'])\n",
    "        acc_urgency_val = compute_accuracy(y_pred['urgency'], batch_dict['urgency'])\n",
    "        acc_impact_val = compute_accuracy(y_pred['impact'], batch_dict['impact'])\n",
    "        \n",
    "        accuracy_val = (acc_category_val + acc_ticket_val + acc_urgency_val + acc_impact_val) / 4\n",
    "        running_acc += (accuracy_val - running_acc_val) / batch_index\n",
    "        break\n",
    "    \n",
    "    print(\"epoch {}/{} loss: {:.2f} accuracy: {:.2f} loss_val: {:.2f} accuracy_val: {:.2f}\". format(\n",
    "        epoch, 100, running_loss, running_acc, running_loss_val, running_acc_val\n",
    "    ))"
   ]
  },
  {
   "cell_type": "code",
   "execution_count": null,
   "metadata": {},
   "outputs": [],
   "source": []
  }
 ],
 "metadata": {
  "kernelspec": {
   "display_name": "Python 3",
   "language": "python",
   "name": "python3"
  },
  "language_info": {
   "codemirror_mode": {
    "name": "ipython",
    "version": 3
   },
   "file_extension": ".py",
   "mimetype": "text/x-python",
   "name": "python",
   "nbconvert_exporter": "python",
   "pygments_lexer": "ipython3",
   "version": "3.7.3"
  }
 },
 "nbformat": 4,
 "nbformat_minor": 2
}
