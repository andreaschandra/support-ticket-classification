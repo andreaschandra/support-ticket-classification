{
 "cells": [
  {
   "cell_type": "code",
   "execution_count": 1,
   "metadata": {},
   "outputs": [],
   "source": [
    "import os\n",
    "import glob\n",
    "import pandas as pd\n",
    "import numpy as np\n",
    "import seaborn as sns\n",
    "\n",
    "from nltk.tokenize import word_tokenize\n",
    "\n",
    "import torch\n",
    "import torch.nn as nn\n",
    "import torch.optim as optim\n",
    "from torch.utils.data import DataLoader\n",
    "\n",
    "%matplotlib inline"
   ]
  },
  {
   "cell_type": "markdown",
   "metadata": {},
   "source": [
    "## data preparation"
   ]
  },
  {
   "cell_type": "code",
   "execution_count": 2,
   "metadata": {},
   "outputs": [],
   "source": [
    "data_path = 'data'"
   ]
  },
  {
   "cell_type": "code",
   "execution_count": 3,
   "metadata": {},
   "outputs": [],
   "source": [
    "files = glob.glob(os.path.join(data_path, '*'))"
   ]
  },
  {
   "cell_type": "code",
   "execution_count": 4,
   "metadata": {},
   "outputs": [],
   "source": [
    "d_data = pd.read_csv(files[0])"
   ]
  },
  {
   "cell_type": "markdown",
   "metadata": {},
   "source": [
    "## data exploration"
   ]
  },
  {
   "cell_type": "code",
   "execution_count": 5,
   "metadata": {},
   "outputs": [
    {
     "data": {
      "text/plain": [
       "(48549, 9)"
      ]
     },
     "execution_count": 5,
     "metadata": {},
     "output_type": "execute_result"
    }
   ],
   "source": [
    "d_data.shape"
   ]
  },
  {
   "cell_type": "code",
   "execution_count": 6,
   "metadata": {},
   "outputs": [
    {
     "data": {
      "text/plain": [
       "Index(['title', 'body', 'ticket_type', 'category', 'sub_category1',\n",
       "       'sub_category2', 'business_service', 'urgency', 'impact'],\n",
       "      dtype='object')"
      ]
     },
     "execution_count": 6,
     "metadata": {},
     "output_type": "execute_result"
    }
   ],
   "source": [
    "d_data.columns"
   ]
  },
  {
   "cell_type": "code",
   "execution_count": 7,
   "metadata": {},
   "outputs": [
    {
     "data": {
      "text/plain": [
       "4     34061\n",
       "5      9634\n",
       "6      2628\n",
       "7       921\n",
       "11      612\n",
       "8       239\n",
       "9       191\n",
       "3       137\n",
       "1        72\n",
       "12       45\n",
       "0         4\n",
       "2         3\n",
       "10        2\n",
       "Name: category, dtype: int64"
      ]
     },
     "execution_count": 7,
     "metadata": {},
     "output_type": "execute_result"
    }
   ],
   "source": [
    "d_data.category.value_counts()"
   ]
  },
  {
   "cell_type": "code",
   "execution_count": 8,
   "metadata": {},
   "outputs": [
    {
     "data": {
      "text/plain": [
       "1    34621\n",
       "0    13928\n",
       "Name: ticket_type, dtype: int64"
      ]
     },
     "execution_count": 8,
     "metadata": {},
     "output_type": "execute_result"
    }
   ],
   "source": [
    "d_data.ticket_type.value_counts()"
   ]
  },
  {
   "cell_type": "code",
   "execution_count": 9,
   "metadata": {},
   "outputs": [
    {
     "data": {
      "text/plain": [
       "3    34621\n",
       "1     6748\n",
       "2     5528\n",
       "0     1652\n",
       "Name: urgency, dtype: int64"
      ]
     },
     "execution_count": 9,
     "metadata": {},
     "output_type": "execute_result"
    }
   ],
   "source": [
    "d_data.urgency.value_counts()"
   ]
  },
  {
   "cell_type": "code",
   "execution_count": 10,
   "metadata": {},
   "outputs": [
    {
     "data": {
      "text/plain": [
       "4    34621\n",
       "3    13184\n",
       "0      471\n",
       "2      228\n",
       "1       45\n",
       "Name: impact, dtype: int64"
      ]
     },
     "execution_count": 10,
     "metadata": {},
     "output_type": "execute_result"
    }
   ],
   "source": [
    "d_data.impact.value_counts()"
   ]
  },
  {
   "cell_type": "code",
   "execution_count": 11,
   "metadata": {},
   "outputs": [],
   "source": [
    "d_data.drop(d_data[d_data.category.isin([0,2,10])].index, inplace=True)"
   ]
  },
  {
   "cell_type": "code",
   "execution_count": 12,
   "metadata": {},
   "outputs": [
    {
     "data": {
      "text/plain": [
       "1        72\n",
       "3       137\n",
       "4     34061\n",
       "5      9634\n",
       "6      2628\n",
       "7       921\n",
       "8       239\n",
       "9       191\n",
       "11      612\n",
       "12       45\n",
       "Name: category, dtype: int64"
      ]
     },
     "execution_count": 12,
     "metadata": {},
     "output_type": "execute_result"
    }
   ],
   "source": [
    "d_data.category.value_counts().sort_index()"
   ]
  },
  {
   "cell_type": "code",
   "execution_count": 13,
   "metadata": {},
   "outputs": [],
   "source": [
    "cat2new = dict((index, value) for index, value in enumerate(d_data.category.value_counts().sort_index().index))\n",
    "new2cat = dict((value, index) for index, value in enumerate(d_data.category.value_counts().sort_index().index))"
   ]
  },
  {
   "cell_type": "code",
   "execution_count": 14,
   "metadata": {},
   "outputs": [],
   "source": [
    "d_data['category'] = d_data.category.map(new2cat)"
   ]
  },
  {
   "cell_type": "markdown",
   "metadata": {},
   "source": [
    "## value encoding"
   ]
  },
  {
   "cell_type": "markdown",
   "metadata": {},
   "source": [
    "fill na in title"
   ]
  },
  {
   "cell_type": "code",
   "execution_count": 15,
   "metadata": {},
   "outputs": [],
   "source": [
    "d_data.title = d_data.title.fillna('')"
   ]
  },
  {
   "cell_type": "code",
   "execution_count": 16,
   "metadata": {},
   "outputs": [
    {
     "data": {
      "text/plain": [
       "title               0\n",
       "body                0\n",
       "ticket_type         0\n",
       "category            0\n",
       "sub_category1       0\n",
       "sub_category2       0\n",
       "business_service    0\n",
       "urgency             0\n",
       "impact              0\n",
       "dtype: int64"
      ]
     },
     "execution_count": 16,
     "metadata": {},
     "output_type": "execute_result"
    }
   ],
   "source": [
    "d_data.isna().sum()"
   ]
  },
  {
   "cell_type": "code",
   "execution_count": 17,
   "metadata": {},
   "outputs": [],
   "source": [
    "d_data['title_body'] = d_data['title'] + d_data['body']"
   ]
  },
  {
   "cell_type": "code",
   "execution_count": 18,
   "metadata": {},
   "outputs": [],
   "source": [
    "d_data.title_body = d_data.title_body.str.lower()"
   ]
  },
  {
   "cell_type": "code",
   "execution_count": 19,
   "metadata": {},
   "outputs": [],
   "source": [
    "text = \" \".join(list(d_data.title_body))"
   ]
  },
  {
   "cell_type": "code",
   "execution_count": 20,
   "metadata": {},
   "outputs": [],
   "source": [
    "word_set = set(word_tokenize(text))"
   ]
  },
  {
   "cell_type": "code",
   "execution_count": 21,
   "metadata": {},
   "outputs": [],
   "source": [
    "idx2word = dict((index, word) for index, word in enumerate(word_set, 1))\n",
    "word2idx = dict((word, index) for index, word in enumerate(word_set, 1))"
   ]
  },
  {
   "cell_type": "code",
   "execution_count": 22,
   "metadata": {},
   "outputs": [],
   "source": [
    "def word_encoding(sentence, encoding):\n",
    "    word_list = word_tokenize(sentence)\n",
    "    sent2idx = []\n",
    "    for word in word_list:\n",
    "        try:\n",
    "            sent2idx.append(encoding[word])\n",
    "        except:\n",
    "            sent2idx.append(0)\n",
    "            \n",
    "    return sent2idx"
   ]
  },
  {
   "cell_type": "code",
   "execution_count": 23,
   "metadata": {},
   "outputs": [
    {
     "data": {
      "text/plain": [
       "457"
      ]
     },
     "execution_count": 23,
     "metadata": {},
     "output_type": "execute_result"
    }
   ],
   "source": [
    "word2idx['hi']"
   ]
  },
  {
   "cell_type": "code",
   "execution_count": 24,
   "metadata": {},
   "outputs": [],
   "source": [
    "d_data = d_data.sample(frac=1)"
   ]
  },
  {
   "cell_type": "code",
   "execution_count": 25,
   "metadata": {},
   "outputs": [],
   "source": [
    "d_data_selected = d_data[['title_body', 'category', 'ticket_type', 'urgency', 'impact']]"
   ]
  },
  {
   "cell_type": "code",
   "execution_count": 26,
   "metadata": {},
   "outputs": [],
   "source": [
    "d_data_selected.reset_index(drop=True, inplace=True)"
   ]
  },
  {
   "cell_type": "code",
   "execution_count": 27,
   "metadata": {},
   "outputs": [],
   "source": [
    "row, col = d_data_selected.shape"
   ]
  },
  {
   "cell_type": "code",
   "execution_count": 28,
   "metadata": {},
   "outputs": [],
   "source": [
    "train, test = d_data_selected.iloc[:int(row * 0.8)], d_data_selected.iloc[int(row * 0.8):]"
   ]
  },
  {
   "cell_type": "code",
   "execution_count": 29,
   "metadata": {},
   "outputs": [
    {
     "data": {
      "text/plain": [
       "(38832, 5)"
      ]
     },
     "execution_count": 29,
     "metadata": {},
     "output_type": "execute_result"
    }
   ],
   "source": [
    "train.shape"
   ]
  },
  {
   "cell_type": "code",
   "execution_count": 30,
   "metadata": {},
   "outputs": [
    {
     "data": {
      "text/plain": [
       "(9708, 5)"
      ]
     },
     "execution_count": 30,
     "metadata": {},
     "output_type": "execute_result"
    }
   ],
   "source": [
    "test.shape"
   ]
  },
  {
   "cell_type": "code",
   "execution_count": 31,
   "metadata": {},
   "outputs": [],
   "source": [
    "col_label = ['category', 'ticket_type', 'urgency', 'impact']"
   ]
  },
  {
   "cell_type": "code",
   "execution_count": 32,
   "metadata": {},
   "outputs": [
    {
     "name": "stdout",
     "output_type": "stream",
     "text": [
      "category\n",
      "0       63\n",
      "1      105\n",
      "2    27272\n",
      "3     7733\n",
      "4     2101\n",
      "5      709\n",
      "6      192\n",
      "7      148\n",
      "8      475\n",
      "9       34\n",
      "Name: category, dtype: int64\n",
      "\n",
      "\n",
      "ticket_type\n",
      "0    11094\n",
      "1    27738\n",
      "Name: ticket_type, dtype: int64\n",
      "\n",
      "\n",
      "urgency\n",
      "0     1289\n",
      "1     5355\n",
      "2     4450\n",
      "3    27738\n",
      "Name: urgency, dtype: int64\n",
      "\n",
      "\n",
      "impact\n",
      "0      374\n",
      "1       38\n",
      "2      170\n",
      "3    10512\n",
      "4    27738\n",
      "Name: impact, dtype: int64\n",
      "\n",
      "\n"
     ]
    }
   ],
   "source": [
    "for col in col_label:\n",
    "    print(col)\n",
    "    print(train[col].value_counts().sort_index())\n",
    "    print('\\n')"
   ]
  },
  {
   "cell_type": "code",
   "execution_count": 33,
   "metadata": {},
   "outputs": [
    {
     "name": "stdout",
     "output_type": "stream",
     "text": [
      "category\n",
      "0       9\n",
      "1      32\n",
      "2    6789\n",
      "3    1901\n",
      "4     527\n",
      "5     212\n",
      "6      47\n",
      "7      43\n",
      "8     137\n",
      "9      11\n",
      "Name: category, dtype: int64\n",
      "\n",
      "\n",
      "ticket_type\n",
      "0    2831\n",
      "1    6877\n",
      "Name: ticket_type, dtype: int64\n",
      "\n",
      "\n",
      "urgency\n",
      "0     362\n",
      "1    1391\n",
      "2    1078\n",
      "3    6877\n",
      "Name: urgency, dtype: int64\n",
      "\n",
      "\n",
      "impact\n",
      "0      97\n",
      "1       7\n",
      "2      58\n",
      "3    2669\n",
      "4    6877\n",
      "Name: impact, dtype: int64\n",
      "\n",
      "\n"
     ]
    }
   ],
   "source": [
    "for col in col_label:\n",
    "    print(col)\n",
    "    print(test[col].value_counts().sort_index())\n",
    "    print('\\n')"
   ]
  },
  {
   "cell_type": "code",
   "execution_count": 34,
   "metadata": {},
   "outputs": [],
   "source": [
    "# len_sent = train.title_body.apply(word_tokenize)"
   ]
  },
  {
   "cell_type": "code",
   "execution_count": 35,
   "metadata": {},
   "outputs": [],
   "source": [
    "# sns.distplot(len_sent)"
   ]
  },
  {
   "cell_type": "code",
   "execution_count": 36,
   "metadata": {},
   "outputs": [],
   "source": [
    "device = torch.device('cuda' if torch.cuda.is_available() else 'cpu')"
   ]
  },
  {
   "cell_type": "code",
   "execution_count": 37,
   "metadata": {},
   "outputs": [],
   "source": [
    "class Dataset():\n",
    "    def __init__(self, word2idx):\n",
    "        self.lookup = {\n",
    "            'train': (train, len(train)),\n",
    "            'test': (test, len(test))\n",
    "        }\n",
    "        \n",
    "        self.set_split('train')\n",
    "    \n",
    "    def set_split(self, split = 'train'):\n",
    "        self.data, self.length = self.lookup[split]\n",
    "        \n",
    "    def set_length_pad(self, x):\n",
    "        if len(x) > 200:\n",
    "            x = x[:200]\n",
    "        else:\n",
    "            len_pad = 200 - len(x)\n",
    "            pad = [0] * len_pad\n",
    "            x.extend(pad)\n",
    "            \n",
    "        return x\n",
    "    \n",
    "    def __getitem__(self, index):\n",
    "        x = self.data.iloc[index, 0]\n",
    "        x = word_encoding(x, word2idx)\n",
    "        x = self.set_length_pad(x)\n",
    "        x = torch.Tensor(x)\n",
    "        \n",
    "        category = self.data.iloc[index, 1]\n",
    "        ticket_type = self.data.iloc[index, 2]\n",
    "        urgency = self.data.iloc[index, 3]\n",
    "        impact = self.data.iloc[index, 4]\n",
    "        \n",
    "        return {\n",
    "            'x': x,\n",
    "            'category': category,\n",
    "            'ticket': ticket_type,\n",
    "            'urgency': urgency,\n",
    "            'impact': impact\n",
    "        }\n",
    "        \n",
    "        \n",
    "    def __len__(self):\n",
    "\n",
    "        return self.length"
   ]
  },
  {
   "cell_type": "code",
   "execution_count": 38,
   "metadata": {},
   "outputs": [],
   "source": [
    "class Classifier(nn.Module):\n",
    "    def __init__(self, len_category, len_ticket_type, len_urgency, len_impact):\n",
    "        super(Classifier, self).__init__()\n",
    "        self.fc1 = nn.Linear(200, 300)\n",
    "        \n",
    "        self.fc2_1 = nn.Linear(300, 300)\n",
    "        self.fc2_2 = nn.Linear(300, 300)\n",
    "        self.fc2_3 = nn.Linear(300, 300)\n",
    "        self.fc2_4 = nn.Linear(300, 300)\n",
    "        \n",
    "        self.fc3_1 = nn.Linear(300, 200)\n",
    "        self.fc3_2 = nn.Linear(300, 200)\n",
    "        self.fc3_3 = nn.Linear(300, 200)\n",
    "        self.fc3_4 = nn.Linear(300, 200)\n",
    "        \n",
    "        self.category = nn.Linear(100, len_category)\n",
    "        self.ticket_type = nn.Linear(100, len_ticket_type)\n",
    "        self.urgency = nn.Linear(100, len_urgency)\n",
    "        self.impact = nn.Linear(100, len_impact)\n",
    "        \n",
    "        \n",
    "    def forward(self, input_, apply_softmax = False):\n",
    "        x = self.fc(input_)\n",
    "        \n",
    "        y_category = self.fc2_1(x)\n",
    "        y_category = self.fc3_1(y_category)\n",
    "        y_category = self.category(y_category)\n",
    "        \n",
    "        y_ticket = self.fc2_2(x)\n",
    "        y_ticket = self.fc3_2(y_ticket)\n",
    "        y_ticket = self.ticket_type(y_ticket)\n",
    "        \n",
    "        y_urgency = self.fc2_3(x)\n",
    "        y_urgency = self.fc3_3(y_urgency)\n",
    "        y_urgency = self.urgency(y_urgency)\n",
    "        \n",
    "        \n",
    "        y_impact = self.fc2_4(x)\n",
    "        y_impact = self.fc3_4(y_impact)\n",
    "        y_impact = self.impact(y_impact)\n",
    "        \n",
    "        if apply_softmax:\n",
    "            y_category = F.softmax(y_category)\n",
    "            y_ticket = F.softmax(y_ticket)\n",
    "            y_urgency = F.softmax(y_urgency)\n",
    "            y_impact = F.softmax(y_impact)\n",
    "            \n",
    "        return {'category': y_category,\n",
    "               'ticket': y_ticket,\n",
    "               'urgency': y_urgency,\n",
    "               'impact': y_impact}"
   ]
  },
  {
   "cell_type": "code",
   "execution_count": 39,
   "metadata": {},
   "outputs": [],
   "source": [
    "def compute_accuracy(y_pred, y_true):\n",
    "    y_pred = y_pred.max(dim=1)[1]\n",
    "    n_correct = torch.eq(y_pred, y_true).sum().item()\n",
    "    accuracy = n_correct / len(y_true)\n",
    "    \n",
    "    return accuracy"
   ]
  },
  {
   "cell_type": "code",
   "execution_count": 40,
   "metadata": {},
   "outputs": [],
   "source": [
    "dataset = Dataset(word2idx)\n",
    "classifier = Classifier(10, 2, 4, 5)\n",
    "\n",
    "classifier = classifier.to(device)"
   ]
  },
  {
   "cell_type": "code",
   "execution_count": null,
   "metadata": {},
   "outputs": [],
   "source": [
    "loss_fun_category = nn.CrossEntropyLoss()\n",
    "loss_fun_ticket = nn.CrossEntropyLoss()\n",
    "loss_fun_urgency = nn.CrossEntropyLoss()\n",
    "loss_fun_impact = nn.CrossEntropyLoss()\n",
    "\n",
    "optimizer = optim.Adam(classifier.parameters(), lr = 1e-3)"
   ]
  },
  {
   "cell_type": "code",
   "execution_count": null,
   "metadata": {},
   "outputs": [],
   "source": [
    "running_acc = 0\n",
    "running_loss = 0\n",
    "running_acc_val = 0\n",
    "running_loss_val = 0"
   ]
  },
  {
   "cell_type": "code",
   "execution_count": null,
   "metadata": {},
   "outputs": [],
   "source": [
    "for epoch in range(100):\n",
    "    dataset.set_split('train')\n",
    "    data_gen = DataLoader(dataset=dataset, shuffle=True, batch_size=2048)\n",
    "    classifier.train()\n",
    "    for batch_index, batch_dict in enumerate(data_gen , 1):\n",
    "        # step 1\n",
    "        optimizer.zero_grad()\n",
    "        \n",
    "        # step 2\n",
    "        y_pred = classifier(batch_dict['x'].to(device))\n",
    "        \n",
    "        # step 3 loss\n",
    "        loss_category = loss_fun_category(y_pred['category'], batch_dict['category'].to(device))\n",
    "        loss_ticket = loss_fun_category(y_pred['ticket'], batch_dict['ticket'].to(device))\n",
    "        loss_urgency = loss_fun_category(y_pred['urgency'], batch_dict['urgency'].to(device))\n",
    "        loss_impact = loss_fun_category(y_pred['impact'], batch_dict['impact'].to(device))\n",
    "        \n",
    "        loss = loss_category + loss_ticket + loss_urgency + loss_impact\n",
    "        running_loss += ((loss.item() / 4) - running_loss) / batch_index\n",
    "        \n",
    "        # step 4 accuracy\n",
    "        acc_category = compute_accuracy(y_pred['category'], batch_dict['category'].to(device))\n",
    "        acc_ticket = compute_accuracy(y_pred['ticket'], batch_dict['ticket'].to(device))\n",
    "        acc_urgency = compute_accuracy(y_pred['urgency'], batch_dict['urgency'].to(device))\n",
    "        acc_impact = compute_accuracy(y_pred['impact'], batch_dict['impact'].to(device))\n",
    "        \n",
    "        accuracy = (acc_category + acc_ticket + acc_urgency + acc_impact) / 4\n",
    "        running_acc += (accuracy - running_acc) / batch_index\n",
    "        \n",
    "        # step 6 backward\n",
    "        loss.backward()\n",
    "        \n",
    "        # step 6 step\n",
    "        optimizer.step()\n",
    "    \n",
    "    dataset.set_split('test')\n",
    "    data_gen = DataLoader(dataset=dataset, shuffle=True, batch_size=2048)\n",
    "    classifier.eval()\n",
    "    for batch_index, batch_dict in enumerate(data_gen , 1):\n",
    "        # step 1\n",
    "        y_pred = classifier(batch_dict['x'].to(device))\n",
    "        \n",
    "        # step 2\n",
    "        # step 3 loss\n",
    "        loss_category_val = loss_fun_category(y_pred['category'], batch_dict['category'].to(device))\n",
    "        loss_ticket_val = loss_fun_category(y_pred['ticket'], batch_dict['ticket'].to(device))\n",
    "        loss_urgency_val = loss_fun_category(y_pred['urgency'], batch_dict['urgency'].to(device))\n",
    "        loss_impact_val = loss_fun_category(y_pred['impact'], batch_dict['impact'].to(device))\n",
    "        \n",
    "        loss_val = loss_category_val + loss_ticket_val + loss_urgency_val + loss_impact_val\n",
    "        running_loss_val += ((loss_val.item() / 4) - running_loss_val) / batch_index\n",
    "        \n",
    "        # step 3\n",
    "        acc_category_val = compute_accuracy(y_pred['category'], batch_dict['category'].to(device))\n",
    "        acc_ticket_val = compute_accuracy(y_pred['ticket'], batch_dict['ticket'].to(device))\n",
    "        acc_urgency_val = compute_accuracy(y_pred['urgency'], batch_dict['urgency'].to(device))\n",
    "        acc_impact_val = compute_accuracy(y_pred['impact'], batch_dict['impact'].to(device))\n",
    "        \n",
    "        accuracy_val = (acc_category_val + acc_ticket_val + acc_urgency_val + acc_impact_val) / 4\n",
    "        running_acc += (accuracy_val - running_acc_val) / batch_index\n",
    "    \n",
    "    print(\"epoch {}/{} loss: {:.2f} accuracy: {:.2f} loss_val: {:.2f} accuracy_val: {:.2f}\". format(\n",
    "        epoch, 100, running_loss, running_acc, running_loss_val, running_acc_val\n",
    "    ))"
   ]
  },
  {
   "cell_type": "code",
   "execution_count": null,
   "metadata": {},
   "outputs": [],
   "source": []
  }
 ],
 "metadata": {
  "kernelspec": {
   "display_name": "Python 3",
   "language": "python",
   "name": "python3"
  },
  "language_info": {
   "codemirror_mode": {
    "name": "ipython",
    "version": 3
   },
   "file_extension": ".py",
   "mimetype": "text/x-python",
   "name": "python",
   "nbconvert_exporter": "python",
   "pygments_lexer": "ipython3",
   "version": "3.7.3"
  }
 },
 "nbformat": 4,
 "nbformat_minor": 2
}
