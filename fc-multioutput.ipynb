{
 "cells": [
  {
   "cell_type": "code",
   "execution_count": 61,
   "metadata": {},
   "outputs": [],
   "source": [
    "import os\n",
    "import glob\n",
    "import pandas as pd\n",
    "import numpy as np\n",
    "import seaborn as sns\n",
    "\n",
    "from nltk.tokenize import word_tokenize\n",
    "\n",
    "import torch\n",
    "import torch.nn as nn\n",
    "import torch.nn.functional as F\n",
    "import torch.optim as optim\n",
    "from torch.utils.data import DataLoader\n",
    "\n",
    "%matplotlib inline"
   ]
  },
  {
   "cell_type": "markdown",
   "metadata": {},
   "source": [
    "## data preparation"
   ]
  },
  {
   "cell_type": "code",
   "execution_count": 2,
   "metadata": {},
   "outputs": [],
   "source": [
    "data_path = 'data'"
   ]
  },
  {
   "cell_type": "code",
   "execution_count": 3,
   "metadata": {},
   "outputs": [],
   "source": [
    "files = glob.glob(os.path.join(data_path, '*'))"
   ]
  },
  {
   "cell_type": "code",
   "execution_count": 4,
   "metadata": {},
   "outputs": [],
   "source": [
    "d_data = pd.read_csv(files[0])"
   ]
  },
  {
   "cell_type": "markdown",
   "metadata": {},
   "source": [
    "## data exploration"
   ]
  },
  {
   "cell_type": "code",
   "execution_count": 5,
   "metadata": {},
   "outputs": [
    {
     "data": {
      "text/plain": [
       "(48549, 9)"
      ]
     },
     "execution_count": 5,
     "metadata": {},
     "output_type": "execute_result"
    }
   ],
   "source": [
    "d_data.shape"
   ]
  },
  {
   "cell_type": "code",
   "execution_count": 6,
   "metadata": {},
   "outputs": [
    {
     "data": {
      "text/plain": [
       "Index(['title', 'body', 'ticket_type', 'category', 'sub_category1',\n",
       "       'sub_category2', 'business_service', 'urgency', 'impact'],\n",
       "      dtype='object')"
      ]
     },
     "execution_count": 6,
     "metadata": {},
     "output_type": "execute_result"
    }
   ],
   "source": [
    "d_data.columns"
   ]
  },
  {
   "cell_type": "code",
   "execution_count": 7,
   "metadata": {},
   "outputs": [
    {
     "data": {
      "text/plain": [
       "4     34061\n",
       "5      9634\n",
       "6      2628\n",
       "7       921\n",
       "11      612\n",
       "8       239\n",
       "9       191\n",
       "3       137\n",
       "1        72\n",
       "12       45\n",
       "0         4\n",
       "2         3\n",
       "10        2\n",
       "Name: category, dtype: int64"
      ]
     },
     "execution_count": 7,
     "metadata": {},
     "output_type": "execute_result"
    }
   ],
   "source": [
    "d_data.category.value_counts()"
   ]
  },
  {
   "cell_type": "code",
   "execution_count": 8,
   "metadata": {},
   "outputs": [
    {
     "data": {
      "text/plain": [
       "1    34621\n",
       "0    13928\n",
       "Name: ticket_type, dtype: int64"
      ]
     },
     "execution_count": 8,
     "metadata": {},
     "output_type": "execute_result"
    }
   ],
   "source": [
    "d_data.ticket_type.value_counts()"
   ]
  },
  {
   "cell_type": "code",
   "execution_count": 9,
   "metadata": {},
   "outputs": [
    {
     "data": {
      "text/plain": [
       "3    34621\n",
       "1     6748\n",
       "2     5528\n",
       "0     1652\n",
       "Name: urgency, dtype: int64"
      ]
     },
     "execution_count": 9,
     "metadata": {},
     "output_type": "execute_result"
    }
   ],
   "source": [
    "d_data.urgency.value_counts()"
   ]
  },
  {
   "cell_type": "code",
   "execution_count": 10,
   "metadata": {},
   "outputs": [
    {
     "data": {
      "text/plain": [
       "4    34621\n",
       "3    13184\n",
       "0      471\n",
       "2      228\n",
       "1       45\n",
       "Name: impact, dtype: int64"
      ]
     },
     "execution_count": 10,
     "metadata": {},
     "output_type": "execute_result"
    }
   ],
   "source": [
    "d_data.impact.value_counts()"
   ]
  },
  {
   "cell_type": "code",
   "execution_count": 11,
   "metadata": {},
   "outputs": [],
   "source": [
    "d_data.drop(d_data[d_data.category.isin([0,2,10])].index, inplace=True)"
   ]
  },
  {
   "cell_type": "code",
   "execution_count": 12,
   "metadata": {},
   "outputs": [
    {
     "data": {
      "text/plain": [
       "1        72\n",
       "3       137\n",
       "4     34061\n",
       "5      9634\n",
       "6      2628\n",
       "7       921\n",
       "8       239\n",
       "9       191\n",
       "11      612\n",
       "12       45\n",
       "Name: category, dtype: int64"
      ]
     },
     "execution_count": 12,
     "metadata": {},
     "output_type": "execute_result"
    }
   ],
   "source": [
    "d_data.category.value_counts().sort_index()"
   ]
  },
  {
   "cell_type": "code",
   "execution_count": 13,
   "metadata": {},
   "outputs": [],
   "source": [
    "cat2new = dict((index, value) for index, value in enumerate(d_data.category.value_counts().sort_index().index))\n",
    "new2cat = dict((value, index) for index, value in enumerate(d_data.category.value_counts().sort_index().index))"
   ]
  },
  {
   "cell_type": "code",
   "execution_count": 14,
   "metadata": {},
   "outputs": [],
   "source": [
    "d_data['category'] = d_data.category.map(new2cat)"
   ]
  },
  {
   "cell_type": "markdown",
   "metadata": {},
   "source": [
    "## value encoding"
   ]
  },
  {
   "cell_type": "markdown",
   "metadata": {},
   "source": [
    "fill na in title"
   ]
  },
  {
   "cell_type": "code",
   "execution_count": 15,
   "metadata": {},
   "outputs": [],
   "source": [
    "d_data.title = d_data.title.fillna('')"
   ]
  },
  {
   "cell_type": "code",
   "execution_count": 16,
   "metadata": {},
   "outputs": [
    {
     "data": {
      "text/plain": [
       "title               0\n",
       "body                0\n",
       "ticket_type         0\n",
       "category            0\n",
       "sub_category1       0\n",
       "sub_category2       0\n",
       "business_service    0\n",
       "urgency             0\n",
       "impact              0\n",
       "dtype: int64"
      ]
     },
     "execution_count": 16,
     "metadata": {},
     "output_type": "execute_result"
    }
   ],
   "source": [
    "d_data.isna().sum()"
   ]
  },
  {
   "cell_type": "code",
   "execution_count": 17,
   "metadata": {},
   "outputs": [],
   "source": [
    "d_data['title_body'] = d_data['title'] + d_data['body']"
   ]
  },
  {
   "cell_type": "code",
   "execution_count": 18,
   "metadata": {},
   "outputs": [],
   "source": [
    "d_data.title_body = d_data.title_body.str.lower()"
   ]
  },
  {
   "cell_type": "code",
   "execution_count": 19,
   "metadata": {},
   "outputs": [],
   "source": [
    "text = \" \".join(list(d_data.title_body))"
   ]
  },
  {
   "cell_type": "code",
   "execution_count": 20,
   "metadata": {},
   "outputs": [],
   "source": [
    "word_set = set(word_tokenize(text))"
   ]
  },
  {
   "cell_type": "code",
   "execution_count": 21,
   "metadata": {},
   "outputs": [],
   "source": [
    "idx2word = dict((index, word) for index, word in enumerate(word_set, 1))\n",
    "word2idx = dict((word, index) for index, word in enumerate(word_set, 1))"
   ]
  },
  {
   "cell_type": "code",
   "execution_count": 22,
   "metadata": {},
   "outputs": [],
   "source": [
    "def word_encoding(sentence, encoding):\n",
    "    word_list = word_tokenize(sentence)\n",
    "    sent2idx = []\n",
    "    for word in word_list:\n",
    "        try:\n",
    "            sent2idx.append(encoding[word])\n",
    "        except:\n",
    "            sent2idx.append(0)\n",
    "            \n",
    "    return sent2idx"
   ]
  },
  {
   "cell_type": "code",
   "execution_count": 23,
   "metadata": {},
   "outputs": [
    {
     "data": {
      "text/plain": [
       "6116"
      ]
     },
     "execution_count": 23,
     "metadata": {},
     "output_type": "execute_result"
    }
   ],
   "source": [
    "word2idx['hi']"
   ]
  },
  {
   "cell_type": "code",
   "execution_count": 24,
   "metadata": {},
   "outputs": [],
   "source": [
    "d_data = d_data.sample(frac=1)"
   ]
  },
  {
   "cell_type": "code",
   "execution_count": 25,
   "metadata": {},
   "outputs": [],
   "source": [
    "d_data_selected = d_data[['title_body', 'category', 'ticket_type', 'urgency', 'impact']]"
   ]
  },
  {
   "cell_type": "code",
   "execution_count": 26,
   "metadata": {},
   "outputs": [],
   "source": [
    "d_data_selected.reset_index(drop=True, inplace=True)"
   ]
  },
  {
   "cell_type": "code",
   "execution_count": 27,
   "metadata": {},
   "outputs": [],
   "source": [
    "row, col = d_data_selected.shape"
   ]
  },
  {
   "cell_type": "code",
   "execution_count": 28,
   "metadata": {},
   "outputs": [],
   "source": [
    "train, test = d_data_selected.iloc[:int(row * 0.8)], d_data_selected.iloc[int(row * 0.8):]"
   ]
  },
  {
   "cell_type": "code",
   "execution_count": 29,
   "metadata": {},
   "outputs": [
    {
     "data": {
      "text/plain": [
       "(38832, 5)"
      ]
     },
     "execution_count": 29,
     "metadata": {},
     "output_type": "execute_result"
    }
   ],
   "source": [
    "train.shape"
   ]
  },
  {
   "cell_type": "code",
   "execution_count": 30,
   "metadata": {},
   "outputs": [
    {
     "data": {
      "text/plain": [
       "(9708, 5)"
      ]
     },
     "execution_count": 30,
     "metadata": {},
     "output_type": "execute_result"
    }
   ],
   "source": [
    "test.shape"
   ]
  },
  {
   "cell_type": "code",
   "execution_count": 31,
   "metadata": {},
   "outputs": [],
   "source": [
    "col_label = ['category', 'ticket_type', 'urgency', 'impact']"
   ]
  },
  {
   "cell_type": "code",
   "execution_count": 32,
   "metadata": {},
   "outputs": [
    {
     "name": "stdout",
     "output_type": "stream",
     "text": [
      "category\n",
      "0       60\n",
      "1      111\n",
      "2    27215\n",
      "3     7741\n",
      "4     2057\n",
      "5      750\n",
      "6      193\n",
      "7      159\n",
      "8      508\n",
      "9       38\n",
      "Name: category, dtype: int64\n",
      "\n",
      "\n",
      "ticket_type\n",
      "0    11062\n",
      "1    27770\n",
      "Name: ticket_type, dtype: int64\n",
      "\n",
      "\n",
      "urgency\n",
      "0     1301\n",
      "1     5383\n",
      "2     4378\n",
      "3    27770\n",
      "Name: urgency, dtype: int64\n",
      "\n",
      "\n",
      "impact\n",
      "0      382\n",
      "1       39\n",
      "2      178\n",
      "3    10463\n",
      "4    27770\n",
      "Name: impact, dtype: int64\n",
      "\n",
      "\n"
     ]
    }
   ],
   "source": [
    "for col in col_label:\n",
    "    print(col)\n",
    "    print(train[col].value_counts().sort_index())\n",
    "    print('\\n')"
   ]
  },
  {
   "cell_type": "code",
   "execution_count": 33,
   "metadata": {},
   "outputs": [
    {
     "name": "stdout",
     "output_type": "stream",
     "text": [
      "category\n",
      "0      12\n",
      "1      26\n",
      "2    6846\n",
      "3    1893\n",
      "4     571\n",
      "5     171\n",
      "6      46\n",
      "7      32\n",
      "8     104\n",
      "9       7\n",
      "Name: category, dtype: int64\n",
      "\n",
      "\n",
      "ticket_type\n",
      "0    2863\n",
      "1    6845\n",
      "Name: ticket_type, dtype: int64\n",
      "\n",
      "\n",
      "urgency\n",
      "0     350\n",
      "1    1363\n",
      "2    1150\n",
      "3    6845\n",
      "Name: urgency, dtype: int64\n",
      "\n",
      "\n",
      "impact\n",
      "0      89\n",
      "1       6\n",
      "2      50\n",
      "3    2718\n",
      "4    6845\n",
      "Name: impact, dtype: int64\n",
      "\n",
      "\n"
     ]
    }
   ],
   "source": [
    "for col in col_label:\n",
    "    print(col)\n",
    "    print(test[col].value_counts().sort_index())\n",
    "    print('\\n')"
   ]
  },
  {
   "cell_type": "code",
   "execution_count": 34,
   "metadata": {},
   "outputs": [],
   "source": [
    "# len_sent = train.title_body.apply(word_tokenize)"
   ]
  },
  {
   "cell_type": "code",
   "execution_count": 35,
   "metadata": {},
   "outputs": [],
   "source": [
    "# sns.distplot(len_sent)"
   ]
  },
  {
   "cell_type": "code",
   "execution_count": 36,
   "metadata": {},
   "outputs": [],
   "source": [
    "device = torch.device('cuda' if torch.cuda.is_available() else 'cpu')"
   ]
  },
  {
   "cell_type": "code",
   "execution_count": 95,
   "metadata": {},
   "outputs": [],
   "source": [
    "class Dataset():\n",
    "    def __init__(self, word2idx):\n",
    "        self.lookup = {\n",
    "            'train': (train, len(train)),\n",
    "            'test': (test, len(test))\n",
    "        }\n",
    "        \n",
    "        self.set_split('train')\n",
    "    \n",
    "    def set_split(self, split = 'train'):\n",
    "        self.data, self.length = self.lookup[split]\n",
    "        \n",
    "    def set_length_pad(self, x):\n",
    "        if len(x) > 200:\n",
    "            x = x[:200]\n",
    "        else:\n",
    "            len_pad = 200 - len(x)\n",
    "            pad = [0] * len_pad\n",
    "            x.extend(pad)\n",
    "            \n",
    "        return x\n",
    "    \n",
    "    def __getitem__(self, index):\n",
    "        x = self.data.iloc[index, 0]\n",
    "        x = word_encoding(x, word2idx)\n",
    "        x = self.set_length_pad(x)\n",
    "        x = torch.Tensor(x)\n",
    "        \n",
    "        category = self.data.iloc[index, 1]\n",
    "        ticket_type = self.data.iloc[index, 2]\n",
    "        urgency = self.data.iloc[index, 3]\n",
    "        impact = self.data.iloc[index, 4]\n",
    "        \n",
    "        return {\n",
    "            'x': x,\n",
    "            'category': category,\n",
    "            'ticket': ticket_type,\n",
    "            'urgency': urgency,\n",
    "            'impact': impact\n",
    "        }\n",
    "        \n",
    "        \n",
    "    def __len__(self):\n",
    "\n",
    "        return self.length"
   ]
  },
  {
   "cell_type": "code",
   "execution_count": 96,
   "metadata": {},
   "outputs": [],
   "source": [
    "class Classifier(nn.Module):\n",
    "    def __init__(self, len_category, len_ticket_type, len_urgency, len_impact):\n",
    "        super(Classifier, self).__init__()\n",
    "        self.fc1 = nn.Linear(200, 300)\n",
    "        \n",
    "        self.fc2_1 = nn.Linear(300, 1024)\n",
    "        self.fc2_2 = nn.Linear(300, 1024)\n",
    "        self.fc2_3 = nn.Linear(300, 1024)\n",
    "        self.fc2_4 = nn.Linear(300, 1024)\n",
    "        \n",
    "        self.fc3_1 = nn.Linear(1024, 2048)\n",
    "        self.fc3_2 = nn.Linear(1024, 2048)\n",
    "        self.fc3_3 = nn.Linear(1024, 2048)\n",
    "        self.fc3_4 = nn.Linear(1024, 2048)\n",
    "        \n",
    "        self.fc4_1 = nn.Linear(2048, 300)\n",
    "        self.fc4_2 = nn.Linear(2048, 300)\n",
    "        self.fc4_3 = nn.Linear(2048, 300)\n",
    "        self.fc4_4 = nn.Linear(2048, 300)\n",
    "        \n",
    "        self.fc5_1 = nn.Linear(300, 100)\n",
    "        self.fc5_2 = nn.Linear(300, 100)\n",
    "        self.fc5_3 = nn.Linear(300, 100)\n",
    "        self.fc5_4 = nn.Linear(300, 100)\n",
    "        \n",
    "        self.category = nn.Linear(100, len_category)\n",
    "        self.ticket_type = nn.Linear(100, len_ticket_type)\n",
    "        self.urgency = nn.Linear(100, len_urgency)\n",
    "        self.impact = nn.Linear(100, len_impact)\n",
    "        \n",
    "        \n",
    "    def forward(self, input_, apply_softmax = False):\n",
    "        x = self.fc1(input_)\n",
    "        \n",
    "        y_category = F.dropout(self.fc2_1(x), p=0.3)\n",
    "        y_category = self.fc3_1(y_category)\n",
    "        y_category = self.fc4_1(y_category)\n",
    "        y_category = self.fc5_1(y_category)\n",
    "        y_category = self.category(y_category)\n",
    "        \n",
    "        y_ticket = F.dropout(self.fc2_2(x), p=0.3)\n",
    "        y_ticket = self.fc3_2(y_ticket)\n",
    "        y_ticket = self.fc4_2(y_ticket)\n",
    "        y_ticket = self.fc5_2(y_ticket)\n",
    "        y_ticket = self.ticket_type(y_ticket)\n",
    "        \n",
    "        y_urgency = F.dropout(self.fc2_3(x), p=0.3)\n",
    "        y_urgency = self.fc3_3(y_urgency)\n",
    "        y_urgency = self.fc4_3(y_urgency)\n",
    "        y_urgency = self.fc5_3(y_urgency)\n",
    "        y_urgency = self.urgency(y_urgency)\n",
    "        \n",
    "        \n",
    "        y_impact = F.dropout(self.fc2_4(x), p=0.3)\n",
    "        y_impact = self.fc3_4(y_impact)\n",
    "        y_impact = self.fc4_4(y_impact)\n",
    "        y_impact = self.fc5_4(y_impact)\n",
    "        y_impact = self.impact(y_impact)\n",
    "        \n",
    "        if apply_softmax:\n",
    "            y_category = F.softmax(y_category)\n",
    "            y_ticket = F.softmax(y_ticket)\n",
    "            y_urgency = F.softmax(y_urgency)\n",
    "            y_impact = F.softmax(y_impact)\n",
    "            \n",
    "        return {'category': y_category,\n",
    "               'ticket': y_ticket,\n",
    "               'urgency': y_urgency,\n",
    "               'impact': y_impact}"
   ]
  },
  {
   "cell_type": "code",
   "execution_count": 97,
   "metadata": {},
   "outputs": [],
   "source": [
    "def compute_accuracy(y_pred, y_true):\n",
    "    y_pred = y_pred.max(dim=1)[1]\n",
    "    n_correct = torch.eq(y_pred, y_true).sum().item()\n",
    "    accuracy = (n_correct / len(y_true)) * 100\n",
    "    \n",
    "    return accuracy"
   ]
  },
  {
   "cell_type": "code",
   "execution_count": 98,
   "metadata": {},
   "outputs": [],
   "source": [
    "dataset = Dataset(word2idx)\n",
    "classifier = Classifier(10, 2, 4, 5)\n",
    "\n",
    "classifier = classifier.to(device)"
   ]
  },
  {
   "cell_type": "code",
   "execution_count": 99,
   "metadata": {},
   "outputs": [],
   "source": [
    "loss_fun_category = nn.CrossEntropyLoss()\n",
    "loss_fun_ticket = nn.CrossEntropyLoss()\n",
    "loss_fun_urgency = nn.CrossEntropyLoss()\n",
    "loss_fun_impact = nn.CrossEntropyLoss()\n",
    "\n",
    "optimizer = optim.Adam(classifier.parameters(), lr = 1e-3, weight_decay=0.0001)"
   ]
  },
  {
   "cell_type": "code",
   "execution_count": 100,
   "metadata": {},
   "outputs": [],
   "source": [
    "running_acc = 0\n",
    "running_loss = 0\n",
    "\n",
    "running_acc_val = 0\n",
    "running_acc_cat_val = 0\n",
    "running_acc_ticket_val = 0\n",
    "running_acc_urgency_val = 0\n",
    "running_acc_impact_val = 0\n",
    "\n",
    "running_loss_val = 0"
   ]
  },
  {
   "cell_type": "code",
   "execution_count": 101,
   "metadata": {},
   "outputs": [],
   "source": [
    "history_dict = {\n",
    "    'loss_train': [],\n",
    "    'acc_train': [],\n",
    "    'loss_val': [],\n",
    "    'acc_val': [],\n",
    "}"
   ]
  },
  {
   "cell_type": "code",
   "execution_count": 102,
   "metadata": {},
   "outputs": [
    {
     "name": "stdout",
     "output_type": "stream",
     "text": [
      "epoch 0/100 loss: 860.35 accuracy: 54.52 loss_val: 198.18 accuracy_val: 62.47 \n",
      "           [cat:61.53 ticket:68.48 urgency: 49.50 impact: 70.38]\n",
      "epoch 1/100 loss: 93.18 accuracy: 58.46 loss_val: 31.11 accuracy_val: 55.18 \n",
      "           [cat:51.65 ticket:57.77 urgency: 56.46 impact: 54.84]\n",
      "epoch 2/100 loss: 22.07 accuracy: 57.80 loss_val: 12.64 accuracy_val: 57.01 \n",
      "           [cat:43.91 ticket:60.72 urgency: 60.00 impact: 63.40]\n",
      "epoch 3/100 loss: 9.74 accuracy: 58.60 loss_val: 7.01 accuracy_val: 57.43 \n",
      "           [cat:51.63 ticket:59.07 urgency: 58.68 impact: 60.36]\n",
      "epoch 4/100 loss: 5.71 accuracy: 58.76 loss_val: 4.71 accuracy_val: 58.30 \n",
      "           [cat:48.62 ticket:65.35 urgency: 65.09 impact: 54.13]\n",
      "epoch 5/100 loss: 4.10 accuracy: 60.00 loss_val: 3.87 accuracy_val: 58.21 \n",
      "           [cat:51.79 ticket:68.06 urgency: 57.73 impact: 55.28]\n",
      "epoch 6/100 loss: 3.34 accuracy: 60.39 loss_val: 3.11 accuracy_val: 62.30 \n",
      "           [cat:53.30 ticket:65.56 urgency: 64.73 impact: 65.62]\n",
      "epoch 7/100 loss: 3.04 accuracy: 61.22 loss_val: 3.16 accuracy_val: 58.79 \n",
      "           [cat:46.10 ticket:67.45 urgency: 56.78 impact: 64.82]\n",
      "epoch 8/100 loss: 2.98 accuracy: 60.99 loss_val: 2.90 accuracy_val: 60.66 \n",
      "           [cat:52.62 ticket:66.43 urgency: 63.47 impact: 60.11]\n",
      "epoch 9/100 loss: 2.73 accuracy: 61.22 loss_val: 2.46 accuracy_val: 59.55 \n",
      "           [cat:53.48 ticket:62.64 urgency: 59.52 impact: 62.57]\n",
      "epoch 10/100 loss: 2.70 accuracy: 60.82 loss_val: 2.79 accuracy_val: 60.40 \n",
      "           [cat:48.14 ticket:66.56 urgency: 60.75 impact: 66.14]\n",
      "epoch 11/100 loss: 2.79 accuracy: 61.59 loss_val: 2.76 accuracy_val: 60.69 \n",
      "           [cat:57.21 ticket:67.82 urgency: 62.24 impact: 55.51]\n",
      "epoch 12/100 loss: 2.85 accuracy: 61.09 loss_val: 2.56 accuracy_val: 60.36 \n",
      "           [cat:53.74 ticket:67.62 urgency: 60.77 impact: 59.32]\n",
      "epoch 13/100 loss: 2.92 accuracy: 61.41 loss_val: 2.43 accuracy_val: 60.62 \n",
      "           [cat:52.47 ticket:66.01 urgency: 60.02 impact: 64.00]\n",
      "epoch 14/100 loss: 2.67 accuracy: 61.52 loss_val: 2.28 accuracy_val: 61.07 \n",
      "           [cat:58.71 ticket:59.33 urgency: 59.44 impact: 66.81]\n",
      "epoch 15/100 loss: 2.20 accuracy: 61.77 loss_val: 2.18 accuracy_val: 62.79 \n",
      "           [cat:55.42 ticket:66.32 urgency: 62.20 impact: 67.22]\n",
      "epoch 16/100 loss: 2.45 accuracy: 61.90 loss_val: 2.02 accuracy_val: 61.10 \n",
      "           [cat:58.52 ticket:64.96 urgency: 61.48 impact: 59.44]\n",
      "epoch 17/100 loss: 2.14 accuracy: 62.12 loss_val: 2.10 accuracy_val: 63.43 \n",
      "           [cat:58.24 ticket:66.75 urgency: 63.36 impact: 65.37]\n",
      "epoch 18/100 loss: 2.33 accuracy: 61.76 loss_val: 2.07 accuracy_val: 61.68 \n",
      "           [cat:56.67 ticket:63.33 urgency: 62.27 impact: 64.46]\n",
      "epoch 19/100 loss: 2.04 accuracy: 61.93 loss_val: 1.88 accuracy_val: 61.66 \n",
      "           [cat:54.75 ticket:66.60 urgency: 61.91 impact: 63.39]\n",
      "epoch 20/100 loss: 1.88 accuracy: 62.26 loss_val: 2.04 accuracy_val: 61.23 \n",
      "           [cat:53.65 ticket:66.25 urgency: 63.14 impact: 61.88]\n",
      "epoch 21/100 loss: 1.87 accuracy: 62.27 loss_val: 1.88 accuracy_val: 63.29 \n",
      "           [cat:54.44 ticket:66.31 urgency: 64.81 impact: 67.58]\n",
      "epoch 22/100 loss: 1.80 accuracy: 62.81 loss_val: 1.94 accuracy_val: 60.59 \n",
      "           [cat:56.14 ticket:64.55 urgency: 62.50 impact: 59.15]\n",
      "epoch 23/100 loss: 1.79 accuracy: 62.73 loss_val: 2.24 accuracy_val: 60.75 \n",
      "           [cat:58.06 ticket:65.25 urgency: 62.35 impact: 57.35]\n",
      "epoch 24/100 loss: 1.92 accuracy: 62.99 loss_val: 2.22 accuracy_val: 60.19 \n",
      "           [cat:58.02 ticket:67.93 urgency: 61.42 impact: 53.38]\n",
      "epoch 25/100 loss: 1.92 accuracy: 62.39 loss_val: 1.62 accuracy_val: 63.71 \n",
      "           [cat:59.69 ticket:66.38 urgency: 63.73 impact: 65.03]\n",
      "epoch 26/100 loss: 1.73 accuracy: 63.07 loss_val: 2.01 accuracy_val: 60.31 \n",
      "           [cat:49.47 ticket:66.11 urgency: 63.56 impact: 62.12]\n",
      "epoch 27/100 loss: 1.70 accuracy: 63.04 loss_val: 1.68 accuracy_val: 61.87 \n",
      "           [cat:59.81 ticket:64.20 urgency: 62.30 impact: 61.16]\n",
      "epoch 28/100 loss: 1.57 accuracy: 63.35 loss_val: 1.63 accuracy_val: 62.29 \n",
      "           [cat:53.95 ticket:66.12 urgency: 63.36 impact: 65.73]\n",
      "epoch 29/100 loss: 1.56 accuracy: 63.43 loss_val: 1.55 accuracy_val: 63.05 \n",
      "           [cat:60.28 ticket:66.88 urgency: 63.12 impact: 61.92]\n",
      "epoch 30/100 loss: 1.50 accuracy: 63.35 loss_val: 1.57 accuracy_val: 62.90 \n",
      "           [cat:61.38 ticket:64.46 urgency: 63.93 impact: 61.83]\n",
      "epoch 31/100 loss: 1.51 accuracy: 63.57 loss_val: 1.53 accuracy_val: 63.26 \n",
      "           [cat:59.98 ticket:64.88 urgency: 63.44 impact: 64.76]\n",
      "epoch 32/100 loss: 1.53 accuracy: 63.50 loss_val: 1.54 accuracy_val: 62.88 \n",
      "           [cat:58.46 ticket:65.79 urgency: 64.39 impact: 62.88]\n",
      "epoch 33/100 loss: 1.50 accuracy: 63.58 loss_val: 1.53 accuracy_val: 62.72 \n",
      "           [cat:59.44 ticket:65.04 urgency: 63.59 impact: 62.83]\n",
      "epoch 34/100 loss: 1.46 accuracy: 63.66 loss_val: 1.54 accuracy_val: 63.17 \n",
      "           [cat:62.28 ticket:65.51 urgency: 63.53 impact: 61.35]\n",
      "epoch 35/100 loss: 1.51 accuracy: 63.63 loss_val: 1.38 accuracy_val: 64.57 \n",
      "           [cat:61.95 ticket:65.18 urgency: 65.30 impact: 65.86]\n",
      "epoch 36/100 loss: 1.43 accuracy: 63.70 loss_val: 1.45 accuracy_val: 63.66 \n",
      "           [cat:59.03 ticket:66.51 urgency: 62.61 impact: 66.51]\n",
      "epoch 37/100 loss: 1.37 accuracy: 64.34 loss_val: 1.35 accuracy_val: 65.04 \n",
      "           [cat:63.52 ticket:65.90 urgency: 65.10 impact: 65.65]\n",
      "epoch 38/100 loss: 1.32 accuracy: 64.53 loss_val: 1.39 accuracy_val: 63.57 \n",
      "           [cat:62.01 ticket:63.95 urgency: 63.90 impact: 64.40]\n",
      "epoch 39/100 loss: 1.33 accuracy: 64.32 loss_val: 1.33 accuracy_val: 63.38 \n",
      "           [cat:58.89 ticket:67.10 urgency: 62.43 impact: 65.11]\n",
      "epoch 40/100 loss: 1.31 accuracy: 64.46 loss_val: 1.35 accuracy_val: 63.60 \n",
      "           [cat:61.68 ticket:64.15 urgency: 61.93 impact: 66.62]\n",
      "epoch 41/100 loss: 1.32 accuracy: 64.74 loss_val: 1.31 accuracy_val: 63.59 \n",
      "           [cat:61.45 ticket:63.80 urgency: 62.20 impact: 66.89]\n",
      "epoch 42/100 loss: 1.28 accuracy: 64.61 loss_val: 1.30 accuracy_val: 63.72 \n",
      "           [cat:62.25 ticket:63.75 urgency: 62.98 impact: 65.92]\n",
      "epoch 43/100 loss: 1.25 accuracy: 65.04 loss_val: 1.27 accuracy_val: 64.76 \n",
      "           [cat:62.26 ticket:65.25 urgency: 64.35 impact: 67.20]\n",
      "epoch 44/100 loss: 1.30 accuracy: 64.60 loss_val: 1.25 accuracy_val: 64.42 \n",
      "           [cat:63.70 ticket:62.47 urgency: 64.70 impact: 66.79]\n",
      "epoch 45/100 loss: 1.28 accuracy: 64.64 loss_val: 1.37 accuracy_val: 63.25 \n",
      "           [cat:60.00 ticket:66.45 urgency: 63.48 impact: 63.06]\n",
      "epoch 46/100 loss: 1.27 accuracy: 64.67 loss_val: 1.28 accuracy_val: 64.82 \n",
      "           [cat:64.00 ticket:65.89 urgency: 64.34 impact: 65.06]\n",
      "epoch 47/100 loss: 1.22 accuracy: 65.03 loss_val: 1.24 accuracy_val: 64.61 \n",
      "           [cat:63.71 ticket:65.34 urgency: 63.64 impact: 65.76]\n",
      "epoch 48/100 loss: 1.24 accuracy: 64.76 loss_val: 1.24 accuracy_val: 64.71 \n",
      "           [cat:65.18 ticket:62.99 urgency: 63.28 impact: 67.40]\n",
      "epoch 49/100 loss: 1.25 accuracy: 64.61 loss_val: 1.25 accuracy_val: 63.89 \n",
      "           [cat:61.87 ticket:65.67 urgency: 63.71 impact: 64.31]\n",
      "epoch 50/100 loss: 1.21 accuracy: 64.95 loss_val: 1.24 accuracy_val: 64.58 \n",
      "           [cat:64.22 ticket:65.60 urgency: 65.45 impact: 63.07]\n",
      "epoch 51/100 loss: 1.18 accuracy: 65.26 loss_val: 1.19 accuracy_val: 65.07 \n",
      "           [cat:63.82 ticket:64.83 urgency: 65.45 impact: 66.16]\n",
      "epoch 52/100 loss: 1.18 accuracy: 65.46 loss_val: 1.29 accuracy_val: 63.58 \n",
      "           [cat:63.02 ticket:64.63 urgency: 63.88 impact: 62.82]\n",
      "epoch 53/100 loss: 1.18 accuracy: 65.12 loss_val: 1.20 accuracy_val: 64.55 \n",
      "           [cat:62.61 ticket:66.48 urgency: 63.87 impact: 65.26]\n",
      "epoch 54/100 loss: 1.16 accuracy: 65.44 loss_val: 1.20 accuracy_val: 65.25 \n",
      "           [cat:62.89 ticket:67.66 urgency: 64.80 impact: 65.64]\n",
      "epoch 55/100 loss: 1.15 accuracy: 65.54 loss_val: 1.15 accuracy_val: 65.45 \n",
      "           [cat:63.66 ticket:67.23 urgency: 64.34 impact: 66.58]\n",
      "epoch 56/100 loss: 1.16 accuracy: 65.38 loss_val: 1.16 accuracy_val: 64.73 \n",
      "           [cat:60.87 ticket:66.88 urgency: 64.41 impact: 66.78]\n",
      "epoch 57/100 loss: 1.15 accuracy: 65.49 loss_val: 1.19 accuracy_val: 64.06 \n",
      "           [cat:61.84 ticket:65.11 urgency: 64.61 impact: 64.68]\n",
      "epoch 58/100 loss: 1.16 accuracy: 65.36 loss_val: 1.18 accuracy_val: 64.88 \n",
      "           [cat:63.16 ticket:66.29 urgency: 63.75 impact: 66.33]\n",
      "epoch 59/100 loss: 1.17 accuracy: 65.09 loss_val: 1.17 accuracy_val: 63.73 \n",
      "           [cat:58.42 ticket:66.70 urgency: 64.33 impact: 65.47]\n",
      "epoch 60/100 loss: 1.14 accuracy: 65.36 loss_val: 1.17 accuracy_val: 64.69 \n",
      "           [cat:63.62 ticket:64.23 urgency: 63.97 impact: 66.93]\n",
      "epoch 61/100 loss: 1.13 accuracy: 65.54 loss_val: 1.13 accuracy_val: 65.24 \n",
      "           [cat:62.40 ticket:66.79 urgency: 64.90 impact: 66.86]\n",
      "epoch 62/100 loss: 1.12 accuracy: 65.62 loss_val: 1.16 accuracy_val: 63.59 \n",
      "           [cat:62.32 ticket:66.29 urgency: 61.84 impact: 63.92]\n",
      "epoch 63/100 loss: 1.11 accuracy: 65.62 loss_val: 1.15 accuracy_val: 63.75 \n",
      "           [cat:63.21 ticket:64.32 urgency: 63.42 impact: 64.07]\n",
      "epoch 64/100 loss: 1.12 accuracy: 65.41 loss_val: 1.13 accuracy_val: 65.20 \n",
      "           [cat:64.83 ticket:66.77 urgency: 62.65 impact: 66.55]\n",
      "epoch 65/100 loss: 1.11 accuracy: 65.66 loss_val: 1.12 accuracy_val: 65.86 \n",
      "           [cat:64.61 ticket:67.09 urgency: 64.30 impact: 67.44]\n",
      "epoch 66/100 loss: 1.12 accuracy: 65.52 loss_val: 1.12 accuracy_val: 65.73 \n",
      "           [cat:65.60 ticket:66.39 urgency: 64.17 impact: 66.74]\n",
      "epoch 67/100 loss: 1.12 accuracy: 65.62 loss_val: 1.20 accuracy_val: 64.68 \n",
      "           [cat:63.79 ticket:66.90 urgency: 63.76 impact: 64.26]\n",
      "epoch 68/100 loss: 1.12 accuracy: 65.56 loss_val: 1.12 accuracy_val: 65.21 \n",
      "           [cat:63.24 ticket:66.82 urgency: 64.68 impact: 66.09]\n",
      "epoch 69/100 loss: 1.11 accuracy: 65.50 loss_val: 1.13 accuracy_val: 65.62 \n",
      "           [cat:65.27 ticket:65.89 urgency: 64.61 impact: 66.73]\n",
      "epoch 70/100 loss: 1.10 accuracy: 65.57 loss_val: 1.10 accuracy_val: 65.19 \n",
      "           [cat:64.78 ticket:64.35 urgency: 63.99 impact: 67.63]\n",
      "epoch 71/100 loss: 1.09 accuracy: 65.74 loss_val: 1.15 accuracy_val: 63.28 \n",
      "           [cat:60.69 ticket:63.07 urgency: 63.18 impact: 66.16]\n",
      "epoch 72/100 loss: 1.08 accuracy: 65.81 loss_val: 1.09 accuracy_val: 66.34 \n",
      "           [cat:66.57 ticket:66.02 urgency: 64.74 impact: 68.02]\n",
      "epoch 73/100 loss: 1.07 accuracy: 66.05 loss_val: 1.10 accuracy_val: 65.36 \n",
      "           [cat:64.02 ticket:66.52 urgency: 63.87 impact: 67.01]\n",
      "epoch 74/100 loss: 1.07 accuracy: 65.87 loss_val: 1.08 accuracy_val: 66.16 \n",
      "           [cat:65.37 ticket:66.46 urgency: 65.05 impact: 67.77]\n",
      "epoch 75/100 loss: 1.06 accuracy: 66.09 loss_val: 1.07 accuracy_val: 66.22 \n",
      "           [cat:65.00 ticket:66.72 urgency: 65.88 impact: 67.30]\n",
      "epoch 76/100 loss: 1.06 accuracy: 66.00 loss_val: 1.07 accuracy_val: 65.73 \n",
      "           [cat:64.09 ticket:66.39 urgency: 65.34 impact: 67.12]\n",
      "epoch 77/100 loss: 1.09 accuracy: 65.80 loss_val: 1.15 accuracy_val: 64.51 \n",
      "           [cat:64.08 ticket:65.93 urgency: 64.87 impact: 63.18]\n",
      "epoch 78/100 loss: 1.07 accuracy: 65.91 loss_val: 1.11 accuracy_val: 65.02 \n",
      "           [cat:65.02 ticket:64.26 urgency: 64.00 impact: 66.80]\n",
      "epoch 79/100 loss: 1.06 accuracy: 66.00 loss_val: 1.08 accuracy_val: 65.89 \n",
      "           [cat:65.13 ticket:66.81 urgency: 65.56 impact: 66.08]\n",
      "epoch 80/100 loss: 1.07 accuracy: 65.89 loss_val: 1.12 accuracy_val: 65.07 \n",
      "           [cat:65.76 ticket:63.30 urgency: 65.35 impact: 65.88]\n",
      "epoch 81/100 loss: 1.06 accuracy: 65.99 loss_val: 1.08 accuracy_val: 65.21 \n",
      "           [cat:64.44 ticket:67.35 urgency: 64.11 impact: 64.94]\n",
      "epoch 82/100 loss: 1.04 accuracy: 66.07 loss_val: 1.07 accuracy_val: 65.79 \n",
      "           [cat:66.81 ticket:65.79 urgency: 64.12 impact: 66.45]\n",
      "epoch 83/100 loss: 1.05 accuracy: 66.04 loss_val: 1.05 accuracy_val: 66.31 \n",
      "           [cat:66.38 ticket:67.13 urgency: 64.44 impact: 67.29]\n",
      "epoch 84/100 loss: 1.04 accuracy: 66.20 loss_val: 1.05 accuracy_val: 64.99 \n",
      "           [cat:64.33 ticket:64.90 urgency: 64.89 impact: 65.83]\n",
      "epoch 85/100 loss: 1.03 accuracy: 66.21 loss_val: 1.09 accuracy_val: 64.72 \n",
      "           [cat:65.86 ticket:65.02 urgency: 63.53 impact: 64.48]\n",
      "epoch 86/100 loss: 1.04 accuracy: 66.10 loss_val: 1.07 accuracy_val: 65.70 \n",
      "           [cat:66.37 ticket:65.78 urgency: 64.80 impact: 65.83]\n",
      "epoch 87/100 loss: 1.03 accuracy: 66.43 loss_val: 1.05 accuracy_val: 65.55 \n",
      "           [cat:65.24 ticket:64.26 urgency: 65.45 impact: 67.25]\n",
      "epoch 88/100 loss: 1.03 accuracy: 66.18 loss_val: 1.06 accuracy_val: 65.82 \n",
      "           [cat:64.47 ticket:67.62 urgency: 64.77 impact: 66.43]\n",
      "epoch 89/100 loss: 1.01 accuracy: 66.41 loss_val: 1.04 accuracy_val: 65.49 \n",
      "           [cat:64.75 ticket:66.47 urgency: 64.69 impact: 66.03]\n",
      "epoch 90/100 loss: 1.01 accuracy: 66.39 loss_val: 1.04 accuracy_val: 65.60 \n",
      "           [cat:65.23 ticket:65.24 urgency: 64.70 impact: 67.21]\n",
      "epoch 91/100 loss: 1.01 accuracy: 66.39 loss_val: 1.05 accuracy_val: 66.37 \n",
      "           [cat:65.34 ticket:67.41 urgency: 65.40 impact: 67.33]\n",
      "epoch 92/100 loss: 1.02 accuracy: 66.43 loss_val: 1.05 accuracy_val: 65.09 \n",
      "           [cat:64.19 ticket:64.89 urgency: 65.66 impact: 65.64]\n",
      "epoch 93/100 loss: 1.01 accuracy: 66.53 loss_val: 1.02 accuracy_val: 64.90 \n",
      "           [cat:63.57 ticket:64.78 urgency: 64.36 impact: 66.90]\n",
      "epoch 94/100 loss: 1.01 accuracy: 66.48 loss_val: 1.03 accuracy_val: 66.47 \n",
      "           [cat:66.05 ticket:67.03 urgency: 65.74 impact: 67.06]\n",
      "epoch 95/100 loss: 1.01 accuracy: 66.31 loss_val: 1.05 accuracy_val: 65.99 \n",
      "           [cat:64.52 ticket:66.52 urgency: 65.84 impact: 67.08]\n",
      "epoch 96/100 loss: 1.01 accuracy: 66.36 loss_val: 1.05 accuracy_val: 65.87 \n",
      "           [cat:65.21 ticket:66.76 urgency: 64.88 impact: 66.64]\n",
      "epoch 97/100 loss: 1.02 accuracy: 66.21 loss_val: 1.02 accuracy_val: 66.11 \n",
      "           [cat:66.17 ticket:65.65 urgency: 65.89 impact: 66.74]\n",
      "epoch 98/100 loss: 1.00 accuracy: 66.60 loss_val: 1.02 accuracy_val: 65.93 \n",
      "           [cat:65.11 ticket:65.60 urgency: 65.39 impact: 67.60]\n",
      "epoch 99/100 loss: 1.00 accuracy: 66.53 loss_val: 1.03 accuracy_val: 65.85 \n",
      "           [cat:65.79 ticket:64.98 urgency: 65.63 impact: 66.99]\n"
     ]
    }
   ],
   "source": [
    "for epoch in range(100):\n",
    "    dataset.set_split('train')\n",
    "    data_gen = DataLoader(dataset=dataset, shuffle=True, batch_size=2048)\n",
    "    classifier.train()\n",
    "    for batch_index, batch_dict in enumerate(data_gen , 1):\n",
    "        # step 1\n",
    "        optimizer.zero_grad()\n",
    "        \n",
    "        # step 2\n",
    "        y_pred = classifier(batch_dict['x'].to(device))\n",
    "        \n",
    "        # step 3 loss\n",
    "        loss_category = loss_fun_category(y_pred['category'], batch_dict['category'].to(device))\n",
    "        loss_ticket = loss_fun_category(y_pred['ticket'], batch_dict['ticket'].to(device))\n",
    "        loss_urgency = loss_fun_category(y_pred['urgency'], batch_dict['urgency'].to(device))\n",
    "        loss_impact = loss_fun_category(y_pred['impact'], batch_dict['impact'].to(device))\n",
    "        \n",
    "        loss = loss_category + loss_ticket + loss_urgency + loss_impact\n",
    "        running_loss += ((loss.item() / 4) - running_loss) / batch_index\n",
    "        \n",
    "        # step 4 accuracy\n",
    "        acc_category = compute_accuracy(y_pred['category'], batch_dict['category'].to(device))\n",
    "        acc_ticket = compute_accuracy(y_pred['ticket'], batch_dict['ticket'].to(device))\n",
    "        acc_urgency = compute_accuracy(y_pred['urgency'], batch_dict['urgency'].to(device))\n",
    "        acc_impact = compute_accuracy(y_pred['impact'], batch_dict['impact'].to(device))\n",
    "        \n",
    "        accuracy = (acc_category + acc_ticket + acc_urgency + acc_impact) / 4\n",
    "        running_acc += (accuracy - running_acc) / batch_index\n",
    "        \n",
    "        # step 6 backward\n",
    "        loss.backward()\n",
    "        \n",
    "        # step 6 step\n",
    "        optimizer.step()\n",
    "    \n",
    "    dataset.set_split('test')\n",
    "    data_gen = DataLoader(dataset=dataset, shuffle=True, batch_size=2048)\n",
    "    classifier.eval()\n",
    "    for batch_index, batch_dict in enumerate(data_gen , 1):\n",
    "        # step 1\n",
    "        y_pred = classifier(batch_dict['x'].to(device))\n",
    "        \n",
    "        # step 2\n",
    "        # step 3 loss\n",
    "        loss_category_val = loss_fun_category(y_pred['category'], batch_dict['category'].to(device))\n",
    "        loss_ticket_val = loss_fun_category(y_pred['ticket'], batch_dict['ticket'].to(device))\n",
    "        loss_urgency_val = loss_fun_category(y_pred['urgency'], batch_dict['urgency'].to(device))\n",
    "        loss_impact_val = loss_fun_category(y_pred['impact'], batch_dict['impact'].to(device))\n",
    "        \n",
    "        loss_val = loss_category_val + loss_ticket_val + loss_urgency_val + loss_impact_val\n",
    "        running_loss_val += ((loss_val.item() / 4) - running_loss_val) / batch_index\n",
    "        \n",
    "        # step 3\n",
    "        acc_category_val = compute_accuracy(y_pred['category'], batch_dict['category'].to(device))\n",
    "        acc_ticket_val = compute_accuracy(y_pred['ticket'], batch_dict['ticket'].to(device))\n",
    "        acc_urgency_val = compute_accuracy(y_pred['urgency'], batch_dict['urgency'].to(device))\n",
    "        acc_impact_val = compute_accuracy(y_pred['impact'], batch_dict['impact'].to(device))\n",
    "        \n",
    "        accuracy_val = (acc_category_val + acc_ticket_val + acc_urgency_val + acc_impact_val) / 4\n",
    "        running_acc_val += (accuracy_val - running_acc_val) / batch_index\n",
    "        \n",
    "        running_acc_cat_val += (acc_category_val - running_acc_cat_val) / batch_index\n",
    "        running_acc_ticket_val += (acc_ticket_val - running_acc_ticket_val) / batch_index\n",
    "        running_acc_urgency_val += (acc_urgency_val - running_acc_urgency_val) / batch_index\n",
    "        running_acc_impact_val += (acc_impact_val - running_acc_impact_val) / batch_index\n",
    "    \n",
    "    print(\"epoch {}/{} loss: {:.2f} accuracy: {:.2f} loss_val: {:.2f} accuracy_val: {:.2f} \\n \\\n",
    "          [cat:{:.2f} ticket:{:.2f} urgency: {:.2f} impact: {:.2f}]\". format(\n",
    "        epoch, 100, running_loss, running_acc, running_loss_val, running_acc_val,\n",
    "        running_acc_cat_val, running_acc_ticket_val, running_acc_urgency_val, running_acc_impact_val\n",
    "    ))\n",
    "    history_dict['loss_train'].append(running_loss)\n",
    "    history_dict['acc_train'].append(running_acc)\n",
    "    history_dict['loss_val'].append(running_loss_val)\n",
    "    history_dict['acc_val'].append(running_acc_val)"
   ]
  },
  {
   "cell_type": "code",
   "execution_count": null,
   "metadata": {},
   "outputs": [],
   "source": []
  }
 ],
 "metadata": {
  "kernelspec": {
   "display_name": "Python 3",
   "language": "python",
   "name": "python3"
  },
  "language_info": {
   "codemirror_mode": {
    "name": "ipython",
    "version": 3
   },
   "file_extension": ".py",
   "mimetype": "text/x-python",
   "name": "python",
   "nbconvert_exporter": "python",
   "pygments_lexer": "ipython3",
   "version": "3.7.3"
  }
 },
 "nbformat": 4,
 "nbformat_minor": 2
}
