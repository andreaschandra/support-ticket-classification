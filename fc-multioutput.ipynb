{
 "cells": [
  {
   "cell_type": "code",
   "execution_count": 1,
   "metadata": {},
   "outputs": [],
   "source": [
    "import os\n",
    "import glob\n",
    "import pandas as pd\n",
    "import numpy as np\n",
    "import seaborn as sns\n",
    "\n",
    "from nltk.tokenize import word_tokenize\n",
    "\n",
    "import torch\n",
    "import torch.nn as nn\n",
    "import torch.optim as optim\n",
    "from torch.utils.data import DataLoader\n",
    "\n",
    "%matplotlib inline"
   ]
  },
  {
   "cell_type": "code",
   "execution_count": 2,
   "metadata": {},
   "outputs": [],
   "source": [
    "data_path = 'data'"
   ]
  },
  {
   "cell_type": "code",
   "execution_count": 3,
   "metadata": {},
   "outputs": [],
   "source": [
    "files = glob.glob(os.path.join(data_path, '*'))"
   ]
  },
  {
   "cell_type": "code",
   "execution_count": 4,
   "metadata": {},
   "outputs": [],
   "source": [
    "d_data = pd.read_csv(files[0])"
   ]
  },
  {
   "cell_type": "code",
   "execution_count": 5,
   "metadata": {},
   "outputs": [
    {
     "data": {
      "text/plain": [
       "(48549, 9)"
      ]
     },
     "execution_count": 5,
     "metadata": {},
     "output_type": "execute_result"
    }
   ],
   "source": [
    "d_data.shape"
   ]
  },
  {
   "cell_type": "code",
   "execution_count": 6,
   "metadata": {},
   "outputs": [
    {
     "data": {
      "text/plain": [
       "Index(['title', 'body', 'ticket_type', 'category', 'sub_category1',\n",
       "       'sub_category2', 'business_service', 'urgency', 'impact'],\n",
       "      dtype='object')"
      ]
     },
     "execution_count": 6,
     "metadata": {},
     "output_type": "execute_result"
    }
   ],
   "source": [
    "d_data.columns"
   ]
  },
  {
   "cell_type": "code",
   "execution_count": 7,
   "metadata": {},
   "outputs": [
    {
     "data": {
      "text/plain": [
       "4     34061\n",
       "5      9634\n",
       "6      2628\n",
       "7       921\n",
       "11      612\n",
       "8       239\n",
       "9       191\n",
       "3       137\n",
       "1        72\n",
       "12       45\n",
       "0         4\n",
       "2         3\n",
       "10        2\n",
       "Name: category, dtype: int64"
      ]
     },
     "execution_count": 7,
     "metadata": {},
     "output_type": "execute_result"
    }
   ],
   "source": [
    "d_data.category.value_counts()"
   ]
  },
  {
   "cell_type": "code",
   "execution_count": 8,
   "metadata": {},
   "outputs": [
    {
     "data": {
      "text/plain": [
       "1    34621\n",
       "0    13928\n",
       "Name: ticket_type, dtype: int64"
      ]
     },
     "execution_count": 8,
     "metadata": {},
     "output_type": "execute_result"
    }
   ],
   "source": [
    "d_data.ticket_type.value_counts()"
   ]
  },
  {
   "cell_type": "code",
   "execution_count": 9,
   "metadata": {},
   "outputs": [
    {
     "data": {
      "text/plain": [
       "3    34621\n",
       "1     6748\n",
       "2     5528\n",
       "0     1652\n",
       "Name: urgency, dtype: int64"
      ]
     },
     "execution_count": 9,
     "metadata": {},
     "output_type": "execute_result"
    }
   ],
   "source": [
    "d_data.urgency.value_counts()"
   ]
  },
  {
   "cell_type": "code",
   "execution_count": 10,
   "metadata": {},
   "outputs": [
    {
     "data": {
      "text/plain": [
       "4    34621\n",
       "3    13184\n",
       "0      471\n",
       "2      228\n",
       "1       45\n",
       "Name: impact, dtype: int64"
      ]
     },
     "execution_count": 10,
     "metadata": {},
     "output_type": "execute_result"
    }
   ],
   "source": [
    "d_data.impact.value_counts()"
   ]
  },
  {
   "cell_type": "code",
   "execution_count": 11,
   "metadata": {},
   "outputs": [],
   "source": [
    "d_data.drop(d_data[d_data.category.isin([0,2,10])].index, inplace=True)"
   ]
  },
  {
   "cell_type": "code",
   "execution_count": 12,
   "metadata": {},
   "outputs": [
    {
     "data": {
      "text/plain": [
       "1        72\n",
       "3       137\n",
       "4     34061\n",
       "5      9634\n",
       "6      2628\n",
       "7       921\n",
       "8       239\n",
       "9       191\n",
       "11      612\n",
       "12       45\n",
       "Name: category, dtype: int64"
      ]
     },
     "execution_count": 12,
     "metadata": {},
     "output_type": "execute_result"
    }
   ],
   "source": [
    "d_data.category.value_counts().sort_index()"
   ]
  },
  {
   "cell_type": "code",
   "execution_count": 13,
   "metadata": {},
   "outputs": [],
   "source": [
    "cat2new = dict((index, value) for index, value in enumerate(d_data.category.value_counts().sort_index().index))\n",
    "new2cat = dict((value, index) for index, value in enumerate(d_data.category.value_counts().sort_index().index))"
   ]
  },
  {
   "cell_type": "code",
   "execution_count": 14,
   "metadata": {},
   "outputs": [],
   "source": [
    "d_data['category'] = d_data.category.map(new2cat)"
   ]
  },
  {
   "cell_type": "markdown",
   "metadata": {},
   "source": [
    "## value encoding"
   ]
  },
  {
   "cell_type": "markdown",
   "metadata": {},
   "source": [
    "fill na in title"
   ]
  },
  {
   "cell_type": "code",
   "execution_count": 15,
   "metadata": {},
   "outputs": [],
   "source": [
    "d_data.title = d_data.title.fillna('')"
   ]
  },
  {
   "cell_type": "code",
   "execution_count": 16,
   "metadata": {},
   "outputs": [
    {
     "data": {
      "text/plain": [
       "title               0\n",
       "body                0\n",
       "ticket_type         0\n",
       "category            0\n",
       "sub_category1       0\n",
       "sub_category2       0\n",
       "business_service    0\n",
       "urgency             0\n",
       "impact              0\n",
       "dtype: int64"
      ]
     },
     "execution_count": 16,
     "metadata": {},
     "output_type": "execute_result"
    }
   ],
   "source": [
    "d_data.isna().sum()"
   ]
  },
  {
   "cell_type": "code",
   "execution_count": 17,
   "metadata": {},
   "outputs": [],
   "source": [
    "d_data['title_body'] = d_data['title'] + d_data['body']"
   ]
  },
  {
   "cell_type": "code",
   "execution_count": 18,
   "metadata": {},
   "outputs": [],
   "source": [
    "d_data.title_body = d_data.title_body.str.lower()"
   ]
  },
  {
   "cell_type": "code",
   "execution_count": 19,
   "metadata": {},
   "outputs": [],
   "source": [
    "text = \" \".join(list(d_data.title_body))"
   ]
  },
  {
   "cell_type": "code",
   "execution_count": 20,
   "metadata": {},
   "outputs": [],
   "source": [
    "word_set = set(word_tokenize(text))"
   ]
  },
  {
   "cell_type": "code",
   "execution_count": 21,
   "metadata": {},
   "outputs": [],
   "source": [
    "idx2word = dict((index, word) for index, word in enumerate(word_set, 1))\n",
    "word2idx = dict((word, index) for index, word in enumerate(word_set, 1))"
   ]
  },
  {
   "cell_type": "code",
   "execution_count": 22,
   "metadata": {},
   "outputs": [],
   "source": [
    "def word_encoding(sentence, encoding):\n",
    "    word_list = word_tokenize(sentence)\n",
    "    sent2idx = []\n",
    "    for word in word_list:\n",
    "        try:\n",
    "            sent2idx.append(encoding[word])\n",
    "        except:\n",
    "            sent2idx.append(0)\n",
    "            \n",
    "    return sent2idx"
   ]
  },
  {
   "cell_type": "code",
   "execution_count": 23,
   "metadata": {},
   "outputs": [
    {
     "data": {
      "text/plain": [
       "9859"
      ]
     },
     "execution_count": 23,
     "metadata": {},
     "output_type": "execute_result"
    }
   ],
   "source": [
    "word2idx['hi']"
   ]
  },
  {
   "cell_type": "code",
   "execution_count": 24,
   "metadata": {},
   "outputs": [],
   "source": [
    "d_data = d_data.sample(frac=1)"
   ]
  },
  {
   "cell_type": "code",
   "execution_count": 25,
   "metadata": {},
   "outputs": [],
   "source": [
    "d_data_selected = d_data[['title_body', 'category', 'ticket_type', 'urgency', 'impact']]"
   ]
  },
  {
   "cell_type": "code",
   "execution_count": 26,
   "metadata": {},
   "outputs": [],
   "source": [
    "d_data_selected.reset_index(drop=True, inplace=True)"
   ]
  },
  {
   "cell_type": "code",
   "execution_count": 27,
   "metadata": {},
   "outputs": [],
   "source": [
    "row, col = d_data_selected.shape"
   ]
  },
  {
   "cell_type": "code",
   "execution_count": 28,
   "metadata": {},
   "outputs": [],
   "source": [
    "train, test = d_data_selected.iloc[:int(row * 0.8)], d_data_selected.iloc[int(row * 0.8):]"
   ]
  },
  {
   "cell_type": "code",
   "execution_count": 29,
   "metadata": {},
   "outputs": [
    {
     "data": {
      "text/plain": [
       "(38832, 5)"
      ]
     },
     "execution_count": 29,
     "metadata": {},
     "output_type": "execute_result"
    }
   ],
   "source": [
    "train.shape"
   ]
  },
  {
   "cell_type": "code",
   "execution_count": 30,
   "metadata": {},
   "outputs": [
    {
     "data": {
      "text/plain": [
       "(9708, 5)"
      ]
     },
     "execution_count": 30,
     "metadata": {},
     "output_type": "execute_result"
    }
   ],
   "source": [
    "test.shape"
   ]
  },
  {
   "cell_type": "code",
   "execution_count": 31,
   "metadata": {},
   "outputs": [],
   "source": [
    "col_label = ['category', 'ticket_type', 'urgency', 'impact']"
   ]
  },
  {
   "cell_type": "code",
   "execution_count": 33,
   "metadata": {},
   "outputs": [
    {
     "name": "stdout",
     "output_type": "stream",
     "text": [
      "category\n",
      "0       50\n",
      "1      111\n",
      "2    27276\n",
      "3     7725\n",
      "4     2076\n",
      "5      734\n",
      "6      195\n",
      "7      147\n",
      "8      483\n",
      "9       35\n",
      "Name: category, dtype: int64\n",
      "\n",
      "\n",
      "ticket_type\n",
      "0    11105\n",
      "1    27727\n",
      "Name: ticket_type, dtype: int64\n",
      "\n",
      "\n",
      "urgency\n",
      "0     1329\n",
      "1     5354\n",
      "2     4422\n",
      "3    27727\n",
      "Name: urgency, dtype: int64\n",
      "\n",
      "\n",
      "impact\n",
      "0      366\n",
      "1       37\n",
      "2      188\n",
      "3    10514\n",
      "4    27727\n",
      "Name: impact, dtype: int64\n",
      "\n",
      "\n"
     ]
    }
   ],
   "source": [
    "for col in col_label:\n",
    "    print(col)\n",
    "    print(train[col].value_counts().sort_index())\n",
    "    print('\\n')"
   ]
  },
  {
   "cell_type": "code",
   "execution_count": 34,
   "metadata": {},
   "outputs": [
    {
     "name": "stdout",
     "output_type": "stream",
     "text": [
      "category\n",
      "0      22\n",
      "1      26\n",
      "2    6785\n",
      "3    1909\n",
      "4     552\n",
      "5     187\n",
      "6      44\n",
      "7      44\n",
      "8     129\n",
      "9      10\n",
      "Name: category, dtype: int64\n",
      "\n",
      "\n",
      "ticket_type\n",
      "0    2820\n",
      "1    6888\n",
      "Name: ticket_type, dtype: int64\n",
      "\n",
      "\n",
      "urgency\n",
      "0     322\n",
      "1    1392\n",
      "2    1106\n",
      "3    6888\n",
      "Name: urgency, dtype: int64\n",
      "\n",
      "\n",
      "impact\n",
      "0     105\n",
      "1       8\n",
      "2      40\n",
      "3    2667\n",
      "4    6888\n",
      "Name: impact, dtype: int64\n",
      "\n",
      "\n"
     ]
    }
   ],
   "source": [
    "for col in col_label:\n",
    "    print(col)\n",
    "    print(test[col].value_counts().sort_index())\n",
    "    print('\\n')"
   ]
  },
  {
   "cell_type": "code",
   "execution_count": 35,
   "metadata": {},
   "outputs": [],
   "source": [
    "len_sent = train.title_body.apply(word_tokenize)"
   ]
  },
  {
   "cell_type": "code",
   "execution_count": null,
   "metadata": {},
   "outputs": [],
   "source": [
    "sns.distplot(len_sent)"
   ]
  },
  {
   "cell_type": "code",
   "execution_count": null,
   "metadata": {},
   "outputs": [],
   "source": [
    "class Dataset():\n",
    "    def __init__(self, word2idx):\n",
    "        self.lookup = {\n",
    "            'train': (train, len(train)),\n",
    "            'test': (test, len(test))\n",
    "        }\n",
    "        \n",
    "        self.set_split('train')\n",
    "    \n",
    "    def set_split(self, split = 'train'):\n",
    "        self.data, self.length = self.lookup[split]\n",
    "        \n",
    "    def set_length(x):\n",
    "        if x > 100:\n",
    "            x = x[100]\n",
    "        else:\n",
    "            len_pad = 100 - len(x)\n",
    "            pad = [0] * len_pad\n",
    "            x.extend(pad)\n",
    "            \n",
    "        return x\n",
    "    \n",
    "    def __getitem__(self, index):\n",
    "        x = self.data.loc[index, 'title_body']\n",
    "        x = word_encoding(x, word2idx)\n",
    "        x = set_length(x)\n",
    "        \n",
    "        category = self.data.loc[index, 'category']\n",
    "        ticket_type = self.data.loc[index, 'ticket_type']\n",
    "        urgency = self.data.loc[index, 'urgency']\n",
    "        impact = self.data.loc[index, 'impact']\n",
    "        \n",
    "        return {\n",
    "            'x': x,\n",
    "            'category': category,\n",
    "            'ticket_type': ticket_type,\n",
    "            'urgency': urgency,\n",
    "            'impact': impact\n",
    "        }\n",
    "        \n",
    "        \n",
    "    def __len__(self):\n",
    "\n",
    "        return self.length"
   ]
  },
  {
   "cell_type": "code",
   "execution_count": null,
   "metadata": {},
   "outputs": [],
   "source": [
    "class Classifier(nn.Module):\n",
    "    def __init__(self, len_category, len_ticket_type, len_urgency, len_impact):\n",
    "        super(Classifier, self).__init__()\n",
    "        self.fc = nn.Sequential(\n",
    "            nn.Linear(200, 150),\n",
    "            nn.ReLU(),\n",
    "            nn.Linear(150, 150),\n",
    "            nn.ReLU(),\n",
    "            nn.Linear(150, 100),\n",
    "            nn.ReLU()\n",
    "        )\n",
    "        \n",
    "        self.category = nn.Linear(100, len_category)\n",
    "        self.ticket_type = nn.Linear(100, len_ticket_type)\n",
    "        self.urgency = nn.Linear(100, len_urgency)\n",
    "        self.impact = nn.Linear(100, len_impact)\n",
    "        \n",
    "        \n",
    "    def forward(self, input_, apply_softmax = False):\n",
    "        x = self.fc(input_)\n",
    "        y_category = self.category(x)\n",
    "        y_ticket = self.ticket_type(x)\n",
    "        y_urgency = self.urgency(x)\n",
    "        y_impact = self.impact(x)\n",
    "        \n",
    "        if apply_softmax:\n",
    "            y_category = F.softmax(y_category)\n",
    "            y_ticket = F.softmax(y_ticket)\n",
    "            y_urgency = F.softmax(y_urgency)\n",
    "            y_impact = F.softmax(y_impact)"
   ]
  },
  {
   "cell_type": "code",
   "execution_count": null,
   "metadata": {},
   "outputs": [],
   "source": [
    "dataset = Dataset(word2idx)\n",
    "classifier = Classifier(10, 2, 4, 5)"
   ]
  },
  {
   "cell_type": "code",
   "execution_count": null,
   "metadata": {},
   "outputs": [],
   "source": [
    "loss_fun_category = nn.CrossEntropyLoss()\n",
    "loss_fun_ticket = nn.CrossEntropyLoss()\n",
    "loss_fun_urgency = nn.CrossEntropyLoss()\n",
    "loss_fun_impact = nn.CrossEntropyLoss()\n",
    "\n",
    "optimizer = optim.Adam(classifier.parameters(), lr = 1e-3)"
   ]
  },
  {
   "cell_type": "code",
   "execution_count": null,
   "metadata": {},
   "outputs": [],
   "source": [
    "dataset.__getitem__(0)"
   ]
  },
  {
   "cell_type": "code",
   "execution_count": null,
   "metadata": {},
   "outputs": [],
   "source": [
    "with torch.no_grad():\n",
    "    classifier()"
   ]
  }
 ],
 "metadata": {
  "kernelspec": {
   "display_name": "Python 3",
   "language": "python",
   "name": "python3"
  },
  "language_info": {
   "codemirror_mode": {
    "name": "ipython",
    "version": 3
   },
   "file_extension": ".py",
   "mimetype": "text/x-python",
   "name": "python",
   "nbconvert_exporter": "python",
   "pygments_lexer": "ipython3",
   "version": "3.7.3"
  }
 },
 "nbformat": 4,
 "nbformat_minor": 2
}
